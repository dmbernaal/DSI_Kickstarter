{
 "cells": [
  {
   "cell_type": "markdown",
   "metadata": {},
   "source": [
    "# Qualitative Analysis\n",
    "In this notebook we will answer the following questions:\n",
    "* What's the best length of time to run a campaign?\n",
    "* What's the ideal pledge goal?\n",
    "* What type of projects would be most successful at getting funded?\n",
    "* Is there an ideal month/day/time to launch a campaign?"
   ]
  },
  {
   "cell_type": "code",
   "execution_count": 1,
   "metadata": {},
   "outputs": [],
   "source": [
    "import pandas as pd\n",
    "import numpy as np\n",
    "import time\n",
    "import matplotlib.pyplot as plt\n",
    "import seaborn as sns\n",
    "\n",
    "sns.set(color_codes=True)\n",
    "\n",
    "%matplotlib inline"
   ]
  },
  {
   "cell_type": "code",
   "execution_count": 169,
   "metadata": {},
   "outputs": [],
   "source": [
    "# importing our raw data as a DF\n",
    "file = './data/DSI_kickstarterscrape_dataset.csv'\n",
    "DSI_DF = pd.read_csv(file, encoding='ISO-8859-1')"
   ]
  },
  {
   "cell_type": "code",
   "execution_count": 170,
   "metadata": {},
   "outputs": [
    {
     "data": {
      "text/html": [
       "<div>\n",
       "<style scoped>\n",
       "    .dataframe tbody tr th:only-of-type {\n",
       "        vertical-align: middle;\n",
       "    }\n",
       "\n",
       "    .dataframe tbody tr th {\n",
       "        vertical-align: top;\n",
       "    }\n",
       "\n",
       "    .dataframe thead th {\n",
       "        text-align: right;\n",
       "    }\n",
       "</style>\n",
       "<table border=\"1\" class=\"dataframe\">\n",
       "  <thead>\n",
       "    <tr style=\"text-align: right;\">\n",
       "      <th></th>\n",
       "      <th>project id</th>\n",
       "      <th>name</th>\n",
       "      <th>url</th>\n",
       "      <th>category</th>\n",
       "      <th>subcategory</th>\n",
       "      <th>location</th>\n",
       "      <th>status</th>\n",
       "      <th>goal</th>\n",
       "      <th>pledged</th>\n",
       "      <th>funded percentage</th>\n",
       "      <th>backers</th>\n",
       "      <th>funded date</th>\n",
       "      <th>levels</th>\n",
       "      <th>reward levels</th>\n",
       "      <th>updates</th>\n",
       "      <th>comments</th>\n",
       "      <th>duration</th>\n",
       "    </tr>\n",
       "  </thead>\n",
       "  <tbody>\n",
       "    <tr>\n",
       "      <th>0</th>\n",
       "      <td>39409</td>\n",
       "      <td>WHILE THE TREES SLEEP</td>\n",
       "      <td>http://www.kickstarter.com/projects/emiliesaba...</td>\n",
       "      <td>Film &amp; Video</td>\n",
       "      <td>Short Film</td>\n",
       "      <td>Columbia, MO</td>\n",
       "      <td>successful</td>\n",
       "      <td>10500.0</td>\n",
       "      <td>11545.0</td>\n",
       "      <td>1.099524</td>\n",
       "      <td>66</td>\n",
       "      <td>Fri, 19 Aug 2011 19:28:17 -0000</td>\n",
       "      <td>7</td>\n",
       "      <td>$25,$50,$100,$250,$500,$1,000,$2,500</td>\n",
       "      <td>10</td>\n",
       "      <td>2</td>\n",
       "      <td>30.00</td>\n",
       "    </tr>\n",
       "    <tr>\n",
       "      <th>1</th>\n",
       "      <td>126581</td>\n",
       "      <td>Educational Online Trading Card Game</td>\n",
       "      <td>http://www.kickstarter.com/projects/972789543/...</td>\n",
       "      <td>Games</td>\n",
       "      <td>Board &amp; Card Games</td>\n",
       "      <td>Maplewood, NJ</td>\n",
       "      <td>failed</td>\n",
       "      <td>4000.0</td>\n",
       "      <td>20.0</td>\n",
       "      <td>0.005000</td>\n",
       "      <td>2</td>\n",
       "      <td>Mon, 02 Aug 2010 03:59:00 -0000</td>\n",
       "      <td>5</td>\n",
       "      <td>$1,$5,$10,$25,$50</td>\n",
       "      <td>6</td>\n",
       "      <td>0</td>\n",
       "      <td>47.18</td>\n",
       "    </tr>\n",
       "    <tr>\n",
       "      <th>2</th>\n",
       "      <td>138119</td>\n",
       "      <td>STRUM</td>\n",
       "      <td>http://www.kickstarter.com/projects/185476022/...</td>\n",
       "      <td>Film &amp; Video</td>\n",
       "      <td>Animation</td>\n",
       "      <td>Los Angeles, CA</td>\n",
       "      <td>live</td>\n",
       "      <td>20000.0</td>\n",
       "      <td>56.0</td>\n",
       "      <td>0.002800</td>\n",
       "      <td>3</td>\n",
       "      <td>Fri, 08 Jun 2012 00:00:31 -0000</td>\n",
       "      <td>10</td>\n",
       "      <td>$1,$10,$25,$40,$50,$100,$250,$1,000,$1,337,$9,001</td>\n",
       "      <td>1</td>\n",
       "      <td>0</td>\n",
       "      <td>28.00</td>\n",
       "    </tr>\n",
       "    <tr>\n",
       "      <th>3</th>\n",
       "      <td>237090</td>\n",
       "      <td>GETTING OVER - One son's search to finally kno...</td>\n",
       "      <td>http://www.kickstarter.com/projects/charnick/g...</td>\n",
       "      <td>Film &amp; Video</td>\n",
       "      <td>Documentary</td>\n",
       "      <td>Los Angeles, CA</td>\n",
       "      <td>successful</td>\n",
       "      <td>6000.0</td>\n",
       "      <td>6535.0</td>\n",
       "      <td>1.089167</td>\n",
       "      <td>100</td>\n",
       "      <td>Sun, 08 Apr 2012 02:14:00 -0000</td>\n",
       "      <td>13</td>\n",
       "      <td>$1,$10,$25,$30,$50,$75,$85,$100,$110,$250,$500...</td>\n",
       "      <td>4</td>\n",
       "      <td>0</td>\n",
       "      <td>32.22</td>\n",
       "    </tr>\n",
       "    <tr>\n",
       "      <th>4</th>\n",
       "      <td>246101</td>\n",
       "      <td>The Launch of FlyeGrlRoyalty &amp;quot;The New Nam...</td>\n",
       "      <td>http://www.kickstarter.com/projects/flyegrlroy...</td>\n",
       "      <td>Fashion</td>\n",
       "      <td>Fashion</td>\n",
       "      <td>Novi, MI</td>\n",
       "      <td>failed</td>\n",
       "      <td>3500.0</td>\n",
       "      <td>0.0</td>\n",
       "      <td>0.000000</td>\n",
       "      <td>0</td>\n",
       "      <td>Wed, 01 Jun 2011 15:25:39 -0000</td>\n",
       "      <td>6</td>\n",
       "      <td>$10,$25,$50,$100,$150,$250</td>\n",
       "      <td>2</td>\n",
       "      <td>0</td>\n",
       "      <td>30.00</td>\n",
       "    </tr>\n",
       "  </tbody>\n",
       "</table>\n",
       "</div>"
      ],
      "text/plain": [
       "   project id                                               name  \\\n",
       "0       39409                              WHILE THE TREES SLEEP   \n",
       "1      126581               Educational Online Trading Card Game   \n",
       "2      138119                                              STRUM   \n",
       "3      237090  GETTING OVER - One son's search to finally kno...   \n",
       "4      246101  The Launch of FlyeGrlRoyalty &quot;The New Nam...   \n",
       "\n",
       "                                                 url      category  \\\n",
       "0  http://www.kickstarter.com/projects/emiliesaba...  Film & Video   \n",
       "1  http://www.kickstarter.com/projects/972789543/...         Games   \n",
       "2  http://www.kickstarter.com/projects/185476022/...  Film & Video   \n",
       "3  http://www.kickstarter.com/projects/charnick/g...  Film & Video   \n",
       "4  http://www.kickstarter.com/projects/flyegrlroy...       Fashion   \n",
       "\n",
       "          subcategory         location      status     goal  pledged  \\\n",
       "0          Short Film     Columbia, MO  successful  10500.0  11545.0   \n",
       "1  Board & Card Games    Maplewood, NJ      failed   4000.0     20.0   \n",
       "2           Animation  Los Angeles, CA        live  20000.0     56.0   \n",
       "3         Documentary  Los Angeles, CA  successful   6000.0   6535.0   \n",
       "4             Fashion         Novi, MI      failed   3500.0      0.0   \n",
       "\n",
       "   funded percentage  backers                      funded date  levels  \\\n",
       "0           1.099524       66  Fri, 19 Aug 2011 19:28:17 -0000       7   \n",
       "1           0.005000        2  Mon, 02 Aug 2010 03:59:00 -0000       5   \n",
       "2           0.002800        3  Fri, 08 Jun 2012 00:00:31 -0000      10   \n",
       "3           1.089167      100  Sun, 08 Apr 2012 02:14:00 -0000      13   \n",
       "4           0.000000        0  Wed, 01 Jun 2011 15:25:39 -0000       6   \n",
       "\n",
       "                                       reward levels  updates  comments  \\\n",
       "0               $25,$50,$100,$250,$500,$1,000,$2,500       10         2   \n",
       "1                                  $1,$5,$10,$25,$50        6         0   \n",
       "2  $1,$10,$25,$40,$50,$100,$250,$1,000,$1,337,$9,001        1         0   \n",
       "3  $1,$10,$25,$30,$50,$75,$85,$100,$110,$250,$500...        4         0   \n",
       "4                         $10,$25,$50,$100,$150,$250        2         0   \n",
       "\n",
       "   duration  \n",
       "0     30.00  \n",
       "1     47.18  \n",
       "2     28.00  \n",
       "3     32.22  \n",
       "4     30.00  "
      ]
     },
     "execution_count": 170,
     "metadata": {},
     "output_type": "execute_result"
    }
   ],
   "source": [
    "DSI_DF.head()"
   ]
  },
  {
   "cell_type": "markdown",
   "metadata": {},
   "source": [
    "## 1. What's the best length of time to run a campaign?\n",
    "For this we will look for the **ideal** duration. The way we can tackle this is to look at the statistics between ```status``` and ```duration``` of each campaign. Is there an underlying pattern? If so, what is that ideal duration?"
   ]
  },
  {
   "cell_type": "code",
   "execution_count": 171,
   "metadata": {},
   "outputs": [],
   "source": [
    "# let's create a new series with just status and duration\n",
    "columns = ['status', 'duration']\n",
    "status_duration = DSI_DF[columns].copy()"
   ]
  },
  {
   "cell_type": "code",
   "execution_count": 172,
   "metadata": {},
   "outputs": [],
   "source": [
    "# any null values?\n",
    "assert status_duration['status'].isnull().any()==False\n",
    "assert status_duration['duration'].isnull().any()==False"
   ]
  },
  {
   "cell_type": "code",
   "execution_count": 173,
   "metadata": {},
   "outputs": [
    {
     "data": {
      "text/plain": [
       "successful    22969\n",
       "failed        18996\n",
       "live           3929\n",
       "canceled         59\n",
       "suspended         4\n",
       "Name: status, dtype: int64"
      ]
     },
     "execution_count": 173,
     "metadata": {},
     "output_type": "execute_result"
    }
   ],
   "source": [
    "# how many statuses are there?\n",
    "status_duration['status'].value_counts()"
   ]
  },
  {
   "cell_type": "code",
   "execution_count": 174,
   "metadata": {},
   "outputs": [],
   "source": [
    "# let's create two more series: successfull & failed\n",
    "successful_mask = status_duration['status']=='successful'\n",
    "failed_mask = status_duration['status']=='failed'\n",
    "\n",
    "# grabbing new series\n",
    "successful = status_duration[successful_mask]\n",
    "failed = status_duration[failed_mask]"
   ]
  },
  {
   "cell_type": "code",
   "execution_count": 8,
   "metadata": {},
   "outputs": [
    {
     "data": {
      "text/plain": [
       "count    22969.000000\n",
       "mean        37.960475\n",
       "std         16.651234\n",
       "min          1.000000\n",
       "25%         30.000000\n",
       "50%         31.000000\n",
       "75%         45.000000\n",
       "max         91.960000\n",
       "Name: duration, dtype: float64"
      ]
     },
     "execution_count": 8,
     "metadata": {},
     "output_type": "execute_result"
    }
   ],
   "source": [
    "# What are the stats?\n",
    "successful['duration'].describe()"
   ]
  },
  {
   "cell_type": "code",
   "execution_count": 9,
   "metadata": {},
   "outputs": [
    {
     "data": {
      "text/plain": [
       "count    18996.000000\n",
       "mean        42.977828\n",
       "std         18.691720\n",
       "min          1.000000\n",
       "25%         30.000000\n",
       "50%         36.000000\n",
       "75%         59.872500\n",
       "max         91.960000\n",
       "Name: duration, dtype: float64"
      ]
     },
     "execution_count": 9,
     "metadata": {},
     "output_type": "execute_result"
    }
   ],
   "source": [
    "failed['duration'].describe()"
   ]
  },
  {
   "cell_type": "code",
   "execution_count": 10,
   "metadata": {},
   "outputs": [
    {
     "data": {
      "text/plain": [
       "<matplotlib.axes._subplots.AxesSubplot at 0x1298c65f8>"
      ]
     },
     "execution_count": 10,
     "metadata": {},
     "output_type": "execute_result"
    },
    {
     "data": {
      "image/png": "[encoded data removed]",
      "text/plain": [
       "<Figure size 432x288 with 1 Axes>"
      ]
     },
     "metadata": {
      "needs_background": "light"
     },
     "output_type": "display_data"
    }
   ],
   "source": [
    "# checking distributions\n",
    "sns.distplot(successful['duration'])"
   ]
  },
  {
   "cell_type": "code",
   "execution_count": 11,
   "metadata": {},
   "outputs": [
    {
     "data": {
      "text/plain": [
       "<matplotlib.axes._subplots.AxesSubplot at 0x129da0240>"
      ]
     },
     "execution_count": 11,
     "metadata": {},
     "output_type": "execute_result"
    },
    {
     "data": {
      "image/png": "[encoded data removed]",
      "text/plain": [
       "<Figure size 432x288 with 1 Axes>"
      ]
     },
     "metadata": {
      "needs_background": "light"
     },
     "output_type": "display_data"
    }
   ],
   "source": [
    "sns.distplot(failed['duration'])"
   ]
  },
  {
   "cell_type": "markdown",
   "metadata": {},
   "source": [
    "Let's check to see ```very_successfull``` campaigns. We will use ```funded_percentage``` as our independent variable"
   ]
  },
  {
   "cell_type": "code",
   "execution_count": 12,
   "metadata": {},
   "outputs": [],
   "source": [
    "columns = ['status', 'funded percentage', 'duration']\n",
    "status_funded_duration = DSI_DF[columns].copy()"
   ]
  },
  {
   "cell_type": "code",
   "execution_count": 13,
   "metadata": {},
   "outputs": [
    {
     "data": {
      "text/plain": [
       "status               False\n",
       "funded percentage    False\n",
       "duration             False\n",
       "dtype: bool"
      ]
     },
     "execution_count": 13,
     "metadata": {},
     "output_type": "execute_result"
    }
   ],
   "source": [
    "status_funded_duration.isnull().any()"
   ]
  },
  {
   "cell_type": "code",
   "execution_count": 14,
   "metadata": {},
   "outputs": [],
   "source": [
    "#above 1.0\n",
    "above_1_mask = status_funded_duration['funded percentage'] > 1.\n",
    "above_1 = status_funded_duration[above_1_mask]"
   ]
  },
  {
   "cell_type": "code",
   "execution_count": 15,
   "metadata": {},
   "outputs": [
    {
     "data": {
      "text/plain": [
       "<matplotlib.axes._subplots.AxesSubplot at 0x12c6f8780>"
      ]
     },
     "execution_count": 15,
     "metadata": {},
     "output_type": "execute_result"
    },
    {
     "data": {
      "image/png": "[encoded data removed]",
      "text/plain": [
       "<Figure size 432x288 with 1 Axes>"
      ]
     },
     "metadata": {
      "needs_background": "light"
     },
     "output_type": "display_data"
    }
   ],
   "source": [
    "sns.scatterplot(above_1['duration'], above_1['funded percentage'])"
   ]
  },
  {
   "cell_type": "code",
   "execution_count": 16,
   "metadata": {},
   "outputs": [
    {
     "data": {
      "text/plain": [
       "count    22566.000000\n",
       "mean         3.611766\n",
       "std        126.263284\n",
       "min          1.000000\n",
       "25%          1.040000\n",
       "50%          1.120000\n",
       "75%          1.340516\n",
       "max      15066.000000\n",
       "Name: funded percentage, dtype: float64"
      ]
     },
     "execution_count": 16,
     "metadata": {},
     "output_type": "execute_result"
    }
   ],
   "source": [
    "above_1['funded percentage'].describe()"
   ]
  },
  {
   "cell_type": "code",
   "execution_count": 17,
   "metadata": {},
   "outputs": [],
   "source": [
    "# let's remove any outliers \n",
    "above_1_mask = above_1['funded percentage']<4000.\n",
    "above_1 = above_1[above_1_mask] # new distribution"
   ]
  },
  {
   "cell_type": "code",
   "execution_count": 18,
   "metadata": {},
   "outputs": [
    {
     "data": {
      "text/plain": [
       "<matplotlib.axes._subplots.AxesSubplot at 0x12aca24e0>"
      ]
     },
     "execution_count": 18,
     "metadata": {},
     "output_type": "execute_result"
    },
    {
     "data": {
      "image/png": "[encoded data removed]",
      "text/plain": [
       "<Figure size 432x288 with 1 Axes>"
      ]
     },
     "metadata": {
      "needs_background": "light"
     },
     "output_type": "display_data"
    }
   ],
   "source": [
    "sns.scatterplot(above_1['duration'], above_1['funded percentage'])"
   ]
  },
  {
   "cell_type": "code",
   "execution_count": 180,
   "metadata": {},
   "outputs": [],
   "source": [
    "success_duration_ratio = successful['duration'].value_counts() / failed['duration'].value_counts()"
   ]
  },
  {
   "cell_type": "code",
   "execution_count": 183,
   "metadata": {},
   "outputs": [
    {
     "data": {
      "text/plain": [
       "31.11    13.0\n",
       "32.13    10.0\n",
       "30.27     9.0\n",
       "31.35     8.0\n",
       "30.59     8.0\n",
       "35.94     8.0\n",
       "35.25     7.0\n",
       "33.95     7.0\n",
       "33.52     7.0\n",
       "21.24     7.0\n",
       "Name: duration, dtype: float64"
      ]
     },
     "execution_count": 183,
     "metadata": {},
     "output_type": "execute_result"
    }
   ],
   "source": [
    "success_duration_ratio.sort_values(ascending=False).head(10)"
   ]
  },
  {
   "cell_type": "markdown",
   "metadata": {},
   "source": [
    "### Conclusion 1.\n",
    "From our initial analysis on duration. The most successful durations seemed to be ~30 min."
   ]
  },
  {
   "cell_type": "markdown",
   "metadata": {},
   "source": [
    "## 2. What's the ideal pledge goal?"
   ]
  },
  {
   "cell_type": "code",
   "execution_count": 19,
   "metadata": {},
   "outputs": [],
   "source": [
    "# grabbing a new df consisting of status, funded percentage, and goal\n",
    "columns = ['goal', 'status', 'funded percentage']\n",
    "goal_funded_status = DSI_DF[columns].copy()"
   ]
  },
  {
   "cell_type": "code",
   "execution_count": 20,
   "metadata": {},
   "outputs": [
    {
     "data": {
      "text/plain": [
       "goal                 False\n",
       "status               False\n",
       "funded percentage    False\n",
       "dtype: bool"
      ]
     },
     "execution_count": 20,
     "metadata": {},
     "output_type": "execute_result"
    }
   ],
   "source": [
    "goal_funded_status.isnull().any()"
   ]
  },
  {
   "cell_type": "code",
   "execution_count": 21,
   "metadata": {},
   "outputs": [],
   "source": [
    "# let's now break it down to success and failed\n",
    "success_mask = goal_funded_status['status']=='successful'\n",
    "failed_mask = goal_funded_status['status']=='failed'\n",
    "\n",
    "success = goal_funded_status[success_mask]\n",
    "failed = goal_funded_status[failed_mask]"
   ]
  },
  {
   "cell_type": "code",
   "execution_count": 22,
   "metadata": {},
   "outputs": [
    {
     "data": {
      "text/html": [
       "<div>\n",
       "<style scoped>\n",
       "    .dataframe tbody tr th:only-of-type {\n",
       "        vertical-align: middle;\n",
       "    }\n",
       "\n",
       "    .dataframe tbody tr th {\n",
       "        vertical-align: top;\n",
       "    }\n",
       "\n",
       "    .dataframe thead th {\n",
       "        text-align: right;\n",
       "    }\n",
       "</style>\n",
       "<table border=\"1\" class=\"dataframe\">\n",
       "  <thead>\n",
       "    <tr style=\"text-align: right;\">\n",
       "      <th></th>\n",
       "      <th>goal</th>\n",
       "      <th>funded percentage</th>\n",
       "    </tr>\n",
       "  </thead>\n",
       "  <tbody>\n",
       "    <tr>\n",
       "      <th>count</th>\n",
       "      <td>22969.000000</td>\n",
       "      <td>22969.000000</td>\n",
       "    </tr>\n",
       "    <tr>\n",
       "      <th>mean</th>\n",
       "      <td>5483.827983</td>\n",
       "      <td>3.536888</td>\n",
       "    </tr>\n",
       "    <tr>\n",
       "      <th>std</th>\n",
       "      <td>12364.050311</td>\n",
       "      <td>125.146991</td>\n",
       "    </tr>\n",
       "    <tr>\n",
       "      <th>min</th>\n",
       "      <td>0.010000</td>\n",
       "      <td>0.999830</td>\n",
       "    </tr>\n",
       "    <tr>\n",
       "      <th>25%</th>\n",
       "      <td>1300.000000</td>\n",
       "      <td>1.033750</td>\n",
       "    </tr>\n",
       "    <tr>\n",
       "      <th>50%</th>\n",
       "      <td>3000.000000</td>\n",
       "      <td>1.110000</td>\n",
       "    </tr>\n",
       "    <tr>\n",
       "      <th>75%</th>\n",
       "      <td>6000.000000</td>\n",
       "      <td>1.320000</td>\n",
       "    </tr>\n",
       "    <tr>\n",
       "      <th>max</th>\n",
       "      <td>900000.000000</td>\n",
       "      <td>15066.000000</td>\n",
       "    </tr>\n",
       "  </tbody>\n",
       "</table>\n",
       "</div>"
      ],
      "text/plain": [
       "                goal  funded percentage\n",
       "count   22969.000000       22969.000000\n",
       "mean     5483.827983           3.536888\n",
       "std     12364.050311         125.146991\n",
       "min         0.010000           0.999830\n",
       "25%      1300.000000           1.033750\n",
       "50%      3000.000000           1.110000\n",
       "75%      6000.000000           1.320000\n",
       "max    900000.000000       15066.000000"
      ]
     },
     "execution_count": 22,
     "metadata": {},
     "output_type": "execute_result"
    }
   ],
   "source": [
    "# statistics for success\n",
    "success.describe()"
   ]
  },
  {
   "cell_type": "code",
   "execution_count": 23,
   "metadata": {},
   "outputs": [
    {
     "data": {
      "text/html": [
       "<div>\n",
       "<style scoped>\n",
       "    .dataframe tbody tr th:only-of-type {\n",
       "        vertical-align: middle;\n",
       "    }\n",
       "\n",
       "    .dataframe tbody tr th {\n",
       "        vertical-align: top;\n",
       "    }\n",
       "\n",
       "    .dataframe thead th {\n",
       "        text-align: right;\n",
       "    }\n",
       "</style>\n",
       "<table border=\"1\" class=\"dataframe\">\n",
       "  <thead>\n",
       "    <tr style=\"text-align: right;\">\n",
       "      <th></th>\n",
       "      <th>goal</th>\n",
       "      <th>funded percentage</th>\n",
       "    </tr>\n",
       "  </thead>\n",
       "  <tbody>\n",
       "    <tr>\n",
       "      <th>count</th>\n",
       "      <td>1.899600e+04</td>\n",
       "      <td>18996.000000</td>\n",
       "    </tr>\n",
       "    <tr>\n",
       "      <th>mean</th>\n",
       "      <td>1.635059e+04</td>\n",
       "      <td>0.104861</td>\n",
       "    </tr>\n",
       "    <tr>\n",
       "      <th>std</th>\n",
       "      <td>2.191424e+05</td>\n",
       "      <td>0.150142</td>\n",
       "    </tr>\n",
       "    <tr>\n",
       "      <th>min</th>\n",
       "      <td>5.000000e-01</td>\n",
       "      <td>0.000000</td>\n",
       "    </tr>\n",
       "    <tr>\n",
       "      <th>25%</th>\n",
       "      <td>2.500000e+03</td>\n",
       "      <td>0.002857</td>\n",
       "    </tr>\n",
       "    <tr>\n",
       "      <th>50%</th>\n",
       "      <td>5.000000e+03</td>\n",
       "      <td>0.037400</td>\n",
       "    </tr>\n",
       "    <tr>\n",
       "      <th>75%</th>\n",
       "      <td>1.200000e+04</td>\n",
       "      <td>0.148571</td>\n",
       "    </tr>\n",
       "    <tr>\n",
       "      <th>max</th>\n",
       "      <td>2.147484e+07</td>\n",
       "      <td>1.079700</td>\n",
       "    </tr>\n",
       "  </tbody>\n",
       "</table>\n",
       "</div>"
      ],
      "text/plain": [
       "               goal  funded percentage\n",
       "count  1.899600e+04       18996.000000\n",
       "mean   1.635059e+04           0.104861\n",
       "std    2.191424e+05           0.150142\n",
       "min    5.000000e-01           0.000000\n",
       "25%    2.500000e+03           0.002857\n",
       "50%    5.000000e+03           0.037400\n",
       "75%    1.200000e+04           0.148571\n",
       "max    2.147484e+07           1.079700"
      ]
     },
     "execution_count": 23,
     "metadata": {},
     "output_type": "execute_result"
    }
   ],
   "source": [
    "# statistics for failed\n",
    "failed.describe()"
   ]
  },
  {
   "cell_type": "code",
   "execution_count": 24,
   "metadata": {},
   "outputs": [
    {
     "data": {
      "text/plain": [
       "<matplotlib.axes._subplots.AxesSubplot at 0x129c43550>"
      ]
     },
     "execution_count": 24,
     "metadata": {},
     "output_type": "execute_result"
    },
    {
     "data": {
      "image/png": "[encoded data removed]",
      "text/plain": [
       "<Figure size 432x288 with 1 Axes>"
      ]
     },
     "metadata": {
      "needs_background": "light"
     },
     "output_type": "display_data"
    }
   ],
   "source": [
    "sns.distplot(success['goal'])"
   ]
  },
  {
   "cell_type": "code",
   "execution_count": 25,
   "metadata": {},
   "outputs": [
    {
     "data": {
      "text/plain": [
       "<matplotlib.axes._subplots.AxesSubplot at 0x12b50ecf8>"
      ]
     },
     "execution_count": 25,
     "metadata": {},
     "output_type": "execute_result"
    },
    {
     "data": {
      "image/png": "[encoded data removed]",
      "text/plain": [
       "<Figure size 432x288 with 1 Axes>"
      ]
     },
     "metadata": {
      "needs_background": "light"
     },
     "output_type": "display_data"
    }
   ],
   "source": [
    "sns.distplot(failed['goal'])"
   ]
  },
  {
   "cell_type": "code",
   "execution_count": 26,
   "metadata": {},
   "outputs": [],
   "source": [
    "successs_new_mask = success['goal']<100000\n",
    "failed_new_mask = failed['goal']<100000\n",
    "\n",
    "success_new = success[successs_new_mask].copy()\n",
    "failed_new = failed[failed_new_mask].copy()"
   ]
  },
  {
   "cell_type": "code",
   "execution_count": 27,
   "metadata": {},
   "outputs": [
    {
     "data": {
      "text/plain": [
       "<matplotlib.axes._subplots.AxesSubplot at 0x12b6b4358>"
      ]
     },
     "execution_count": 27,
     "metadata": {},
     "output_type": "execute_result"
    },
    {
     "data": {
      "image/png": "[encoded data removed]",
      "text/plain": [
       "<Figure size 432x288 with 1 Axes>"
      ]
     },
     "metadata": {
      "needs_background": "light"
     },
     "output_type": "display_data"
    }
   ],
   "source": [
    "# checking new distributions\n",
    "sns.distplot(success_new['goal'])"
   ]
  },
  {
   "cell_type": "code",
   "execution_count": 28,
   "metadata": {},
   "outputs": [
    {
     "data": {
      "text/plain": [
       "<matplotlib.axes._subplots.AxesSubplot at 0x12b68a518>"
      ]
     },
     "execution_count": 28,
     "metadata": {},
     "output_type": "execute_result"
    },
    {
     "data": {
      "image/png": "[encoded data removed]",
      "text/plain": [
       "<Figure size 432x288 with 1 Axes>"
      ]
     },
     "metadata": {
      "needs_background": "light"
     },
     "output_type": "display_data"
    }
   ],
   "source": [
    "# checking new distributions\n",
    "sns.distplot(failed_new['goal'])"
   ]
  },
  {
   "cell_type": "code",
   "execution_count": 29,
   "metadata": {},
   "outputs": [
    {
     "data": {
      "text/html": [
       "<div>\n",
       "<style scoped>\n",
       "    .dataframe tbody tr th:only-of-type {\n",
       "        vertical-align: middle;\n",
       "    }\n",
       "\n",
       "    .dataframe tbody tr th {\n",
       "        vertical-align: top;\n",
       "    }\n",
       "\n",
       "    .dataframe thead th {\n",
       "        text-align: right;\n",
       "    }\n",
       "</style>\n",
       "<table border=\"1\" class=\"dataframe\">\n",
       "  <thead>\n",
       "    <tr style=\"text-align: right;\">\n",
       "      <th></th>\n",
       "      <th>goal</th>\n",
       "      <th>funded percentage</th>\n",
       "    </tr>\n",
       "  </thead>\n",
       "  <tbody>\n",
       "    <tr>\n",
       "      <th>count</th>\n",
       "      <td>22926.000000</td>\n",
       "      <td>22926.000000</td>\n",
       "    </tr>\n",
       "    <tr>\n",
       "      <th>mean</th>\n",
       "      <td>5156.549112</td>\n",
       "      <td>3.534741</td>\n",
       "    </tr>\n",
       "    <tr>\n",
       "      <th>std</th>\n",
       "      <td>7198.543202</td>\n",
       "      <td>125.262540</td>\n",
       "    </tr>\n",
       "    <tr>\n",
       "      <th>min</th>\n",
       "      <td>0.010000</td>\n",
       "      <td>0.999830</td>\n",
       "    </tr>\n",
       "    <tr>\n",
       "      <th>25%</th>\n",
       "      <td>1250.000000</td>\n",
       "      <td>1.033676</td>\n",
       "    </tr>\n",
       "    <tr>\n",
       "      <th>50%</th>\n",
       "      <td>3000.000000</td>\n",
       "      <td>1.109511</td>\n",
       "    </tr>\n",
       "    <tr>\n",
       "      <th>75%</th>\n",
       "      <td>6000.000000</td>\n",
       "      <td>1.319944</td>\n",
       "    </tr>\n",
       "    <tr>\n",
       "      <th>max</th>\n",
       "      <td>99999.000000</td>\n",
       "      <td>15066.000000</td>\n",
       "    </tr>\n",
       "  </tbody>\n",
       "</table>\n",
       "</div>"
      ],
      "text/plain": [
       "               goal  funded percentage\n",
       "count  22926.000000       22926.000000\n",
       "mean    5156.549112           3.534741\n",
       "std     7198.543202         125.262540\n",
       "min        0.010000           0.999830\n",
       "25%     1250.000000           1.033676\n",
       "50%     3000.000000           1.109511\n",
       "75%     6000.000000           1.319944\n",
       "max    99999.000000       15066.000000"
      ]
     },
     "execution_count": 29,
     "metadata": {},
     "output_type": "execute_result"
    }
   ],
   "source": [
    "# stats \n",
    "success_new.describe()"
   ]
  },
  {
   "cell_type": "code",
   "execution_count": 30,
   "metadata": {},
   "outputs": [
    {
     "data": {
      "text/html": [
       "<div>\n",
       "<style scoped>\n",
       "    .dataframe tbody tr th:only-of-type {\n",
       "        vertical-align: middle;\n",
       "    }\n",
       "\n",
       "    .dataframe tbody tr th {\n",
       "        vertical-align: top;\n",
       "    }\n",
       "\n",
       "    .dataframe thead th {\n",
       "        text-align: right;\n",
       "    }\n",
       "</style>\n",
       "<table border=\"1\" class=\"dataframe\">\n",
       "  <thead>\n",
       "    <tr style=\"text-align: right;\">\n",
       "      <th></th>\n",
       "      <th>goal</th>\n",
       "      <th>funded percentage</th>\n",
       "    </tr>\n",
       "  </thead>\n",
       "  <tbody>\n",
       "    <tr>\n",
       "      <th>count</th>\n",
       "      <td>18627.000000</td>\n",
       "      <td>18627.000000</td>\n",
       "    </tr>\n",
       "    <tr>\n",
       "      <th>mean</th>\n",
       "      <td>9974.075334</td>\n",
       "      <td>0.106332</td>\n",
       "    </tr>\n",
       "    <tr>\n",
       "      <th>std</th>\n",
       "      <td>13201.458349</td>\n",
       "      <td>0.150893</td>\n",
       "    </tr>\n",
       "    <tr>\n",
       "      <th>min</th>\n",
       "      <td>0.500000</td>\n",
       "      <td>0.000000</td>\n",
       "    </tr>\n",
       "    <tr>\n",
       "      <th>25%</th>\n",
       "      <td>2500.000000</td>\n",
       "      <td>0.003333</td>\n",
       "    </tr>\n",
       "    <tr>\n",
       "      <th>50%</th>\n",
       "      <td>5000.000000</td>\n",
       "      <td>0.039250</td>\n",
       "    </tr>\n",
       "    <tr>\n",
       "      <th>75%</th>\n",
       "      <td>11000.000000</td>\n",
       "      <td>0.150661</td>\n",
       "    </tr>\n",
       "    <tr>\n",
       "      <th>max</th>\n",
       "      <td>99999.990000</td>\n",
       "      <td>1.079700</td>\n",
       "    </tr>\n",
       "  </tbody>\n",
       "</table>\n",
       "</div>"
      ],
      "text/plain": [
       "               goal  funded percentage\n",
       "count  18627.000000       18627.000000\n",
       "mean    9974.075334           0.106332\n",
       "std    13201.458349           0.150893\n",
       "min        0.500000           0.000000\n",
       "25%     2500.000000           0.003333\n",
       "50%     5000.000000           0.039250\n",
       "75%    11000.000000           0.150661\n",
       "max    99999.990000           1.079700"
      ]
     },
     "execution_count": 30,
     "metadata": {},
     "output_type": "execute_result"
    }
   ],
   "source": [
    "failed_new.describe()"
   ]
  },
  {
   "cell_type": "markdown",
   "metadata": {},
   "source": [
    "### Conclusion 2.\n",
    "We performed a similar analysis with ```goal``` splitting this into a ```failed``` and ```successs``` DataFrames. What I noticed from the data is: ```failed``` campaigns typically had high ```goal``` amounts which makes intuitive sense. \n",
    "\n",
    "When comparing the (distribution-outliers) for both ```successfull``` and ```failed```, we notice a similar distribution type. This indicates to me ```goal``` is not the best indicator for the ```success``` of a campaign but does yield some ```weight```. \n",
    "\n",
    "The **mean** for successful campaigns was ~**5000**."
   ]
  },
  {
   "cell_type": "markdown",
   "metadata": {},
   "source": [
    "## 3. What type of projects would be most successful at getting funded?\n",
    "For this problem we will grab: ```category, subcategory, status, funded percentage``` and store into a separate DF."
   ]
  },
  {
   "cell_type": "code",
   "execution_count": 31,
   "metadata": {},
   "outputs": [],
   "source": [
    "columns = ['category', 'subcategory', 'status', 'funded percentage']\n",
    "projects_df = DSI_DF[columns].copy()"
   ]
  },
  {
   "cell_type": "code",
   "execution_count": 32,
   "metadata": {},
   "outputs": [
    {
     "data": {
      "text/plain": [
       "category             False\n",
       "subcategory          False\n",
       "status               False\n",
       "funded percentage    False\n",
       "dtype: bool"
      ]
     },
     "execution_count": 32,
     "metadata": {},
     "output_type": "execute_result"
    }
   ],
   "source": [
    "projects_df.isnull().any()"
   ]
  },
  {
   "cell_type": "code",
   "execution_count": 33,
   "metadata": {},
   "outputs": [
    {
     "data": {
      "text/plain": [
       "Film &amp; Video    13053\n",
       "Music               10913\n",
       "Publishing           4770\n",
       "Art                  3992\n",
       "Theater              2492\n",
       "Design               1768\n",
       "Games                1738\n",
       "Photography          1514\n",
       "Food                 1439\n",
       "Fashion              1136\n",
       "Comics               1072\n",
       "Technology            811\n",
       "Dance                 761\n",
       "Film & Video          498\n",
       "Name: category, dtype: int64"
      ]
     },
     "execution_count": 33,
     "metadata": {},
     "output_type": "execute_result"
    }
   ],
   "source": [
    "# how many categories and their count\n",
    "projects_df['category'].value_counts()"
   ]
  },
  {
   "cell_type": "code",
   "execution_count": 34,
   "metadata": {},
   "outputs": [
    {
     "data": {
      "text/plain": [
       "Documentary               4012\n",
       "Short Film                3942\n",
       "Music                     3243\n",
       "Film &amp; Video          2495\n",
       "Theater                   2492\n",
       "Indie Rock                1939\n",
       "Rock                      1791\n",
       "Narrative Film            1554\n",
       "Photography               1514\n",
       "Food                      1439\n",
       "Fashion                   1136\n",
       "Webseries                 1122\n",
       "Fiction                   1099\n",
       "Art                       1076\n",
       "Comics                    1072\n",
       "Nonfiction                1062\n",
       "Product Design            1053\n",
       "Video Games                911\n",
       "Country &amp; Folk         808\n",
       "Dance                      761\n",
       "Pop                        746\n",
       "Publishing                 673\n",
       "Children's Book            653\n",
       "Public Art                 564\n",
       "Painting                   518\n",
       "Performance Art            506\n",
       "Classical Music            482\n",
       "Hip-Hop                    477\n",
       "Jazz                       447\n",
       "Mixed Media                444\n",
       "Board &amp; Card Games     442\n",
       "Journalism                 431\n",
       "World Music                428\n",
       "Animation                  426\n",
       "Technology                 372\n",
       "Sculpture                  356\n",
       "Art Book                   339\n",
       "Electronic Music           302\n",
       "Periodical                 291\n",
       "Design                     285\n",
       "Games                      274\n",
       "Crafts                     255\n",
       "Open Software              254\n",
       "Country & Folk             250\n",
       "Poetry                     222\n",
       "Illustration               206\n",
       "Open Hardware              185\n",
       "Conceptual Art             178\n",
       "Graphic Design             175\n",
       "Digital Art                144\n",
       "Board & Card Games         111\n",
       "Name: subcategory, dtype: int64"
      ]
     },
     "execution_count": 34,
     "metadata": {},
     "output_type": "execute_result"
    }
   ],
   "source": [
    "# subcategory count\n",
    "projects_df['subcategory'].value_counts()"
   ]
  },
  {
   "cell_type": "code",
   "execution_count": 35,
   "metadata": {},
   "outputs": [],
   "source": [
    "# some statistics\n",
    "category_stats = projects_df.groupby('category').describe()"
   ]
  },
  {
   "cell_type": "code",
   "execution_count": 36,
   "metadata": {},
   "outputs": [],
   "source": [
    "# some statistics\n",
    "sub_category_stats = projects_df.groupby('subcategory').describe()"
   ]
  },
  {
   "cell_type": "code",
   "execution_count": 37,
   "metadata": {},
   "outputs": [
    {
     "data": {
      "text/html": [
       "<div>\n",
       "<style scoped>\n",
       "    .dataframe tbody tr th:only-of-type {\n",
       "        vertical-align: middle;\n",
       "    }\n",
       "\n",
       "    .dataframe tbody tr th {\n",
       "        vertical-align: top;\n",
       "    }\n",
       "\n",
       "    .dataframe thead tr th {\n",
       "        text-align: left;\n",
       "    }\n",
       "\n",
       "    .dataframe thead tr:last-of-type th {\n",
       "        text-align: right;\n",
       "    }\n",
       "</style>\n",
       "<table border=\"1\" class=\"dataframe\">\n",
       "  <thead>\n",
       "    <tr>\n",
       "      <th></th>\n",
       "      <th colspan=\"8\" halign=\"left\">funded percentage</th>\n",
       "    </tr>\n",
       "    <tr>\n",
       "      <th></th>\n",
       "      <th>count</th>\n",
       "      <th>mean</th>\n",
       "      <th>std</th>\n",
       "      <th>min</th>\n",
       "      <th>25%</th>\n",
       "      <th>50%</th>\n",
       "      <th>75%</th>\n",
       "      <th>max</th>\n",
       "    </tr>\n",
       "    <tr>\n",
       "      <th>category</th>\n",
       "      <th></th>\n",
       "      <th></th>\n",
       "      <th></th>\n",
       "      <th></th>\n",
       "      <th></th>\n",
       "      <th></th>\n",
       "      <th></th>\n",
       "      <th></th>\n",
       "    </tr>\n",
       "  </thead>\n",
       "  <tbody>\n",
       "    <tr>\n",
       "      <th>Art</th>\n",
       "      <td>3992.0</td>\n",
       "      <td>3.678950</td>\n",
       "      <td>158.552647</td>\n",
       "      <td>0.0</td>\n",
       "      <td>0.069808</td>\n",
       "      <td>1.003050</td>\n",
       "      <td>1.123000</td>\n",
       "      <td>10000.000000</td>\n",
       "    </tr>\n",
       "    <tr>\n",
       "      <th>Comics</th>\n",
       "      <td>1072.0</td>\n",
       "      <td>2.045597</td>\n",
       "      <td>33.457935</td>\n",
       "      <td>0.0</td>\n",
       "      <td>0.050000</td>\n",
       "      <td>1.000000</td>\n",
       "      <td>1.276000</td>\n",
       "      <td>1095.000000</td>\n",
       "    </tr>\n",
       "    <tr>\n",
       "      <th>Dance</th>\n",
       "      <td>761.0</td>\n",
       "      <td>1.019342</td>\n",
       "      <td>3.639644</td>\n",
       "      <td>0.0</td>\n",
       "      <td>0.368000</td>\n",
       "      <td>1.033667</td>\n",
       "      <td>1.141667</td>\n",
       "      <td>100.000000</td>\n",
       "    </tr>\n",
       "    <tr>\n",
       "      <th>Design</th>\n",
       "      <td>1768.0</td>\n",
       "      <td>3.262921</td>\n",
       "      <td>41.537502</td>\n",
       "      <td>0.0</td>\n",
       "      <td>0.052293</td>\n",
       "      <td>0.364909</td>\n",
       "      <td>1.239000</td>\n",
       "      <td>1340.900000</td>\n",
       "    </tr>\n",
       "    <tr>\n",
       "      <th>Fashion</th>\n",
       "      <td>1136.0</td>\n",
       "      <td>1.034475</td>\n",
       "      <td>16.810605</td>\n",
       "      <td>0.0</td>\n",
       "      <td>0.010000</td>\n",
       "      <td>0.111756</td>\n",
       "      <td>1.016667</td>\n",
       "      <td>566.000000</td>\n",
       "    </tr>\n",
       "    <tr>\n",
       "      <th>Film &amp; Video</th>\n",
       "      <td>498.0</td>\n",
       "      <td>0.696748</td>\n",
       "      <td>0.661092</td>\n",
       "      <td>0.0</td>\n",
       "      <td>0.033083</td>\n",
       "      <td>1.000000</td>\n",
       "      <td>1.100500</td>\n",
       "      <td>3.649674</td>\n",
       "    </tr>\n",
       "    <tr>\n",
       "      <th>Film &amp;amp; Video</th>\n",
       "      <td>13053.0</td>\n",
       "      <td>2.558498</td>\n",
       "      <td>137.596093</td>\n",
       "      <td>0.0</td>\n",
       "      <td>0.025300</td>\n",
       "      <td>0.475000</td>\n",
       "      <td>1.077800</td>\n",
       "      <td>15066.000000</td>\n",
       "    </tr>\n",
       "    <tr>\n",
       "      <th>Food</th>\n",
       "      <td>1439.0</td>\n",
       "      <td>0.979268</td>\n",
       "      <td>8.918692</td>\n",
       "      <td>0.0</td>\n",
       "      <td>0.046837</td>\n",
       "      <td>0.442602</td>\n",
       "      <td>1.090851</td>\n",
       "      <td>326.000000</td>\n",
       "    </tr>\n",
       "    <tr>\n",
       "      <th>Games</th>\n",
       "      <td>1738.0</td>\n",
       "      <td>1.345840</td>\n",
       "      <td>7.965261</td>\n",
       "      <td>0.0</td>\n",
       "      <td>0.018000</td>\n",
       "      <td>0.207809</td>\n",
       "      <td>1.252700</td>\n",
       "      <td>305.140933</td>\n",
       "    </tr>\n",
       "    <tr>\n",
       "      <th>Music</th>\n",
       "      <td>10913.0</td>\n",
       "      <td>1.217785</td>\n",
       "      <td>18.945366</td>\n",
       "      <td>0.0</td>\n",
       "      <td>0.150800</td>\n",
       "      <td>1.027273</td>\n",
       "      <td>1.158637</td>\n",
       "      <td>1722.470000</td>\n",
       "    </tr>\n",
       "    <tr>\n",
       "      <th>Photography</th>\n",
       "      <td>1514.0</td>\n",
       "      <td>0.669175</td>\n",
       "      <td>0.825000</td>\n",
       "      <td>0.0</td>\n",
       "      <td>0.029073</td>\n",
       "      <td>0.335833</td>\n",
       "      <td>1.100000</td>\n",
       "      <td>10.000000</td>\n",
       "    </tr>\n",
       "    <tr>\n",
       "      <th>Publishing</th>\n",
       "      <td>4770.0</td>\n",
       "      <td>0.941844</td>\n",
       "      <td>22.738337</td>\n",
       "      <td>0.0</td>\n",
       "      <td>0.010000</td>\n",
       "      <td>0.152111</td>\n",
       "      <td>1.053569</td>\n",
       "      <td>1568.000000</td>\n",
       "    </tr>\n",
       "    <tr>\n",
       "      <th>Technology</th>\n",
       "      <td>811.0</td>\n",
       "      <td>1.053424</td>\n",
       "      <td>2.580940</td>\n",
       "      <td>0.0</td>\n",
       "      <td>0.023342</td>\n",
       "      <td>0.194000</td>\n",
       "      <td>1.160383</td>\n",
       "      <td>33.697500</td>\n",
       "    </tr>\n",
       "    <tr>\n",
       "      <th>Theater</th>\n",
       "      <td>2492.0</td>\n",
       "      <td>1.318760</td>\n",
       "      <td>22.040104</td>\n",
       "      <td>0.0</td>\n",
       "      <td>0.226933</td>\n",
       "      <td>1.028755</td>\n",
       "      <td>1.150000</td>\n",
       "      <td>1100.000000</td>\n",
       "    </tr>\n",
       "  </tbody>\n",
       "</table>\n",
       "</div>"
      ],
      "text/plain": [
       "                 funded percentage                                       \\\n",
       "                             count      mean         std  min       25%   \n",
       "category                                                                  \n",
       "Art                         3992.0  3.678950  158.552647  0.0  0.069808   \n",
       "Comics                      1072.0  2.045597   33.457935  0.0  0.050000   \n",
       "Dance                        761.0  1.019342    3.639644  0.0  0.368000   \n",
       "Design                      1768.0  3.262921   41.537502  0.0  0.052293   \n",
       "Fashion                     1136.0  1.034475   16.810605  0.0  0.010000   \n",
       "Film & Video                 498.0  0.696748    0.661092  0.0  0.033083   \n",
       "Film &amp; Video           13053.0  2.558498  137.596093  0.0  0.025300   \n",
       "Food                        1439.0  0.979268    8.918692  0.0  0.046837   \n",
       "Games                       1738.0  1.345840    7.965261  0.0  0.018000   \n",
       "Music                      10913.0  1.217785   18.945366  0.0  0.150800   \n",
       "Photography                 1514.0  0.669175    0.825000  0.0  0.029073   \n",
       "Publishing                  4770.0  0.941844   22.738337  0.0  0.010000   \n",
       "Technology                   811.0  1.053424    2.580940  0.0  0.023342   \n",
       "Theater                     2492.0  1.318760   22.040104  0.0  0.226933   \n",
       "\n",
       "                                                    \n",
       "                       50%       75%           max  \n",
       "category                                            \n",
       "Art               1.003050  1.123000  10000.000000  \n",
       "Comics            1.000000  1.276000   1095.000000  \n",
       "Dance             1.033667  1.141667    100.000000  \n",
       "Design            0.364909  1.239000   1340.900000  \n",
       "Fashion           0.111756  1.016667    566.000000  \n",
       "Film & Video      1.000000  1.100500      3.649674  \n",
       "Film &amp; Video  0.475000  1.077800  15066.000000  \n",
       "Food              0.442602  1.090851    326.000000  \n",
       "Games             0.207809  1.252700    305.140933  \n",
       "Music             1.027273  1.158637   1722.470000  \n",
       "Photography       0.335833  1.100000     10.000000  \n",
       "Publishing        0.152111  1.053569   1568.000000  \n",
       "Technology        0.194000  1.160383     33.697500  \n",
       "Theater           1.028755  1.150000   1100.000000  "
      ]
     },
     "execution_count": 37,
     "metadata": {},
     "output_type": "execute_result"
    }
   ],
   "source": [
    "category_stats"
   ]
  },
  {
   "cell_type": "code",
   "execution_count": 38,
   "metadata": {},
   "outputs": [
    {
     "data": {
      "text/html": [
       "<div>\n",
       "<style scoped>\n",
       "    .dataframe tbody tr th:only-of-type {\n",
       "        vertical-align: middle;\n",
       "    }\n",
       "\n",
       "    .dataframe tbody tr th {\n",
       "        vertical-align: top;\n",
       "    }\n",
       "\n",
       "    .dataframe thead tr th {\n",
       "        text-align: left;\n",
       "    }\n",
       "\n",
       "    .dataframe thead tr:last-of-type th {\n",
       "        text-align: right;\n",
       "    }\n",
       "</style>\n",
       "<table border=\"1\" class=\"dataframe\">\n",
       "  <thead>\n",
       "    <tr>\n",
       "      <th></th>\n",
       "      <th colspan=\"8\" halign=\"left\">funded percentage</th>\n",
       "    </tr>\n",
       "    <tr>\n",
       "      <th></th>\n",
       "      <th>count</th>\n",
       "      <th>mean</th>\n",
       "      <th>std</th>\n",
       "      <th>min</th>\n",
       "      <th>25%</th>\n",
       "      <th>50%</th>\n",
       "      <th>75%</th>\n",
       "      <th>max</th>\n",
       "    </tr>\n",
       "    <tr>\n",
       "      <th>subcategory</th>\n",
       "      <th></th>\n",
       "      <th></th>\n",
       "      <th></th>\n",
       "      <th></th>\n",
       "      <th></th>\n",
       "      <th></th>\n",
       "      <th></th>\n",
       "      <th></th>\n",
       "    </tr>\n",
       "  </thead>\n",
       "  <tbody>\n",
       "    <tr>\n",
       "      <th>Animation</th>\n",
       "      <td>426.0</td>\n",
       "      <td>0.547983</td>\n",
       "      <td>0.774216</td>\n",
       "      <td>0.0</td>\n",
       "      <td>0.004071</td>\n",
       "      <td>0.120172</td>\n",
       "      <td>1.053590</td>\n",
       "      <td>6.078487</td>\n",
       "    </tr>\n",
       "    <tr>\n",
       "      <th>Art</th>\n",
       "      <td>1076.0</td>\n",
       "      <td>1.601757</td>\n",
       "      <td>14.205710</td>\n",
       "      <td>0.0</td>\n",
       "      <td>0.100550</td>\n",
       "      <td>1.016350</td>\n",
       "      <td>1.148143</td>\n",
       "      <td>336.000000</td>\n",
       "    </tr>\n",
       "    <tr>\n",
       "      <th>Art Book</th>\n",
       "      <td>339.0</td>\n",
       "      <td>0.828899</td>\n",
       "      <td>1.269087</td>\n",
       "      <td>0.0</td>\n",
       "      <td>0.033450</td>\n",
       "      <td>0.481200</td>\n",
       "      <td>1.205483</td>\n",
       "      <td>16.241111</td>\n",
       "    </tr>\n",
       "    <tr>\n",
       "      <th>Board &amp; Card Games</th>\n",
       "      <td>111.0</td>\n",
       "      <td>1.629443</td>\n",
       "      <td>2.976745</td>\n",
       "      <td>0.0</td>\n",
       "      <td>0.049778</td>\n",
       "      <td>1.024000</td>\n",
       "      <td>1.810275</td>\n",
       "      <td>22.469320</td>\n",
       "    </tr>\n",
       "    <tr>\n",
       "      <th>Board &amp;amp; Card Games</th>\n",
       "      <td>442.0</td>\n",
       "      <td>2.641042</td>\n",
       "      <td>15.337050</td>\n",
       "      <td>0.0</td>\n",
       "      <td>0.071337</td>\n",
       "      <td>1.024001</td>\n",
       "      <td>1.771547</td>\n",
       "      <td>305.140933</td>\n",
       "    </tr>\n",
       "    <tr>\n",
       "      <th>Children's Book</th>\n",
       "      <td>653.0</td>\n",
       "      <td>0.587980</td>\n",
       "      <td>2.383358</td>\n",
       "      <td>0.0</td>\n",
       "      <td>0.009000</td>\n",
       "      <td>0.100000</td>\n",
       "      <td>1.016875</td>\n",
       "      <td>50.156560</td>\n",
       "    </tr>\n",
       "    <tr>\n",
       "      <th>Classical Music</th>\n",
       "      <td>482.0</td>\n",
       "      <td>2.051993</td>\n",
       "      <td>17.980809</td>\n",
       "      <td>0.0</td>\n",
       "      <td>0.335795</td>\n",
       "      <td>1.037399</td>\n",
       "      <td>1.151500</td>\n",
       "      <td>280.142667</td>\n",
       "    </tr>\n",
       "    <tr>\n",
       "      <th>Comics</th>\n",
       "      <td>1072.0</td>\n",
       "      <td>2.045597</td>\n",
       "      <td>33.457935</td>\n",
       "      <td>0.0</td>\n",
       "      <td>0.050000</td>\n",
       "      <td>1.000000</td>\n",
       "      <td>1.276000</td>\n",
       "      <td>1095.000000</td>\n",
       "    </tr>\n",
       "    <tr>\n",
       "      <th>Conceptual Art</th>\n",
       "      <td>178.0</td>\n",
       "      <td>57.887286</td>\n",
       "      <td>749.484336</td>\n",
       "      <td>0.0</td>\n",
       "      <td>0.085893</td>\n",
       "      <td>1.004065</td>\n",
       "      <td>1.132798</td>\n",
       "      <td>10000.000000</td>\n",
       "    </tr>\n",
       "    <tr>\n",
       "      <th>Country &amp; Folk</th>\n",
       "      <td>250.0</td>\n",
       "      <td>0.932261</td>\n",
       "      <td>0.650740</td>\n",
       "      <td>0.0</td>\n",
       "      <td>0.296375</td>\n",
       "      <td>1.051708</td>\n",
       "      <td>1.184600</td>\n",
       "      <td>4.036667</td>\n",
       "    </tr>\n",
       "    <tr>\n",
       "      <th>Country &amp;amp; Folk</th>\n",
       "      <td>808.0</td>\n",
       "      <td>1.809567</td>\n",
       "      <td>17.023583</td>\n",
       "      <td>0.0</td>\n",
       "      <td>0.414792</td>\n",
       "      <td>1.052000</td>\n",
       "      <td>1.190462</td>\n",
       "      <td>369.000000</td>\n",
       "    </tr>\n",
       "    <tr>\n",
       "      <th>Crafts</th>\n",
       "      <td>255.0</td>\n",
       "      <td>1.199148</td>\n",
       "      <td>7.448735</td>\n",
       "      <td>0.0</td>\n",
       "      <td>0.046607</td>\n",
       "      <td>0.376600</td>\n",
       "      <td>1.112956</td>\n",
       "      <td>118.800000</td>\n",
       "    </tr>\n",
       "    <tr>\n",
       "      <th>Dance</th>\n",
       "      <td>761.0</td>\n",
       "      <td>1.019342</td>\n",
       "      <td>3.639644</td>\n",
       "      <td>0.0</td>\n",
       "      <td>0.368000</td>\n",
       "      <td>1.033667</td>\n",
       "      <td>1.141667</td>\n",
       "      <td>100.000000</td>\n",
       "    </tr>\n",
       "    <tr>\n",
       "      <th>Design</th>\n",
       "      <td>285.0</td>\n",
       "      <td>0.870647</td>\n",
       "      <td>1.112667</td>\n",
       "      <td>0.0</td>\n",
       "      <td>0.070175</td>\n",
       "      <td>0.652267</td>\n",
       "      <td>1.183835</td>\n",
       "      <td>7.533333</td>\n",
       "    </tr>\n",
       "    <tr>\n",
       "      <th>Digital Art</th>\n",
       "      <td>144.0</td>\n",
       "      <td>0.669039</td>\n",
       "      <td>0.755140</td>\n",
       "      <td>0.0</td>\n",
       "      <td>0.007629</td>\n",
       "      <td>0.360100</td>\n",
       "      <td>1.071562</td>\n",
       "      <td>3.851632</td>\n",
       "    </tr>\n",
       "    <tr>\n",
       "      <th>Documentary</th>\n",
       "      <td>4012.0</td>\n",
       "      <td>4.402928</td>\n",
       "      <td>237.851857</td>\n",
       "      <td>0.0</td>\n",
       "      <td>0.024214</td>\n",
       "      <td>0.326333</td>\n",
       "      <td>1.073432</td>\n",
       "      <td>15066.000000</td>\n",
       "    </tr>\n",
       "    <tr>\n",
       "      <th>Electronic Music</th>\n",
       "      <td>302.0</td>\n",
       "      <td>0.807151</td>\n",
       "      <td>0.892828</td>\n",
       "      <td>0.0</td>\n",
       "      <td>0.045198</td>\n",
       "      <td>1.000000</td>\n",
       "      <td>1.133125</td>\n",
       "      <td>6.094436</td>\n",
       "    </tr>\n",
       "    <tr>\n",
       "      <th>Fashion</th>\n",
       "      <td>1136.0</td>\n",
       "      <td>1.034475</td>\n",
       "      <td>16.810605</td>\n",
       "      <td>0.0</td>\n",
       "      <td>0.010000</td>\n",
       "      <td>0.111756</td>\n",
       "      <td>1.016667</td>\n",
       "      <td>566.000000</td>\n",
       "    </tr>\n",
       "    <tr>\n",
       "      <th>Fiction</th>\n",
       "      <td>1099.0</td>\n",
       "      <td>0.581191</td>\n",
       "      <td>1.009266</td>\n",
       "      <td>0.0</td>\n",
       "      <td>0.007703</td>\n",
       "      <td>0.112800</td>\n",
       "      <td>1.049150</td>\n",
       "      <td>12.685714</td>\n",
       "    </tr>\n",
       "    <tr>\n",
       "      <th>Film &amp;amp; Video</th>\n",
       "      <td>2495.0</td>\n",
       "      <td>0.791816</td>\n",
       "      <td>7.039068</td>\n",
       "      <td>0.0</td>\n",
       "      <td>0.008450</td>\n",
       "      <td>0.235363</td>\n",
       "      <td>1.060000</td>\n",
       "      <td>325.000000</td>\n",
       "    </tr>\n",
       "    <tr>\n",
       "      <th>Food</th>\n",
       "      <td>1439.0</td>\n",
       "      <td>0.979268</td>\n",
       "      <td>8.918692</td>\n",
       "      <td>0.0</td>\n",
       "      <td>0.046837</td>\n",
       "      <td>0.442602</td>\n",
       "      <td>1.090851</td>\n",
       "      <td>326.000000</td>\n",
       "    </tr>\n",
       "    <tr>\n",
       "      <th>Games</th>\n",
       "      <td>274.0</td>\n",
       "      <td>1.583779</td>\n",
       "      <td>2.502457</td>\n",
       "      <td>0.0</td>\n",
       "      <td>0.038929</td>\n",
       "      <td>1.033975</td>\n",
       "      <td>1.875369</td>\n",
       "      <td>22.821000</td>\n",
       "    </tr>\n",
       "    <tr>\n",
       "      <th>Graphic Design</th>\n",
       "      <td>175.0</td>\n",
       "      <td>10.717156</td>\n",
       "      <td>82.368425</td>\n",
       "      <td>0.0</td>\n",
       "      <td>0.075500</td>\n",
       "      <td>1.089870</td>\n",
       "      <td>1.740083</td>\n",
       "      <td>1049.743200</td>\n",
       "    </tr>\n",
       "    <tr>\n",
       "      <th>Hip-Hop</th>\n",
       "      <td>477.0</td>\n",
       "      <td>0.486458</td>\n",
       "      <td>0.694794</td>\n",
       "      <td>0.0</td>\n",
       "      <td>0.000000</td>\n",
       "      <td>0.055000</td>\n",
       "      <td>1.051493</td>\n",
       "      <td>5.873793</td>\n",
       "    </tr>\n",
       "    <tr>\n",
       "      <th>Illustration</th>\n",
       "      <td>206.0</td>\n",
       "      <td>1.132001</td>\n",
       "      <td>2.222131</td>\n",
       "      <td>0.0</td>\n",
       "      <td>0.087309</td>\n",
       "      <td>1.009100</td>\n",
       "      <td>1.298690</td>\n",
       "      <td>26.333333</td>\n",
       "    </tr>\n",
       "    <tr>\n",
       "      <th>Indie Rock</th>\n",
       "      <td>1939.0</td>\n",
       "      <td>2.261494</td>\n",
       "      <td>42.545649</td>\n",
       "      <td>0.0</td>\n",
       "      <td>0.393250</td>\n",
       "      <td>1.050000</td>\n",
       "      <td>1.211198</td>\n",
       "      <td>1722.470000</td>\n",
       "    </tr>\n",
       "    <tr>\n",
       "      <th>Jazz</th>\n",
       "      <td>447.0</td>\n",
       "      <td>0.874080</td>\n",
       "      <td>0.616052</td>\n",
       "      <td>0.0</td>\n",
       "      <td>0.269671</td>\n",
       "      <td>1.030631</td>\n",
       "      <td>1.139283</td>\n",
       "      <td>4.916667</td>\n",
       "    </tr>\n",
       "    <tr>\n",
       "      <th>Journalism</th>\n",
       "      <td>431.0</td>\n",
       "      <td>0.626367</td>\n",
       "      <td>0.687537</td>\n",
       "      <td>0.0</td>\n",
       "      <td>0.018983</td>\n",
       "      <td>0.331200</td>\n",
       "      <td>1.081028</td>\n",
       "      <td>5.021667</td>\n",
       "    </tr>\n",
       "    <tr>\n",
       "      <th>Mixed Media</th>\n",
       "      <td>444.0</td>\n",
       "      <td>0.696626</td>\n",
       "      <td>0.912055</td>\n",
       "      <td>0.0</td>\n",
       "      <td>0.045639</td>\n",
       "      <td>0.438750</td>\n",
       "      <td>1.075250</td>\n",
       "      <td>9.418168</td>\n",
       "    </tr>\n",
       "    <tr>\n",
       "      <th>Music</th>\n",
       "      <td>3243.0</td>\n",
       "      <td>0.871512</td>\n",
       "      <td>2.002641</td>\n",
       "      <td>0.0</td>\n",
       "      <td>0.122621</td>\n",
       "      <td>1.021000</td>\n",
       "      <td>1.146400</td>\n",
       "      <td>105.000000</td>\n",
       "    </tr>\n",
       "    <tr>\n",
       "      <th>Narrative Film</th>\n",
       "      <td>1554.0</td>\n",
       "      <td>5.722179</td>\n",
       "      <td>109.655900</td>\n",
       "      <td>0.0</td>\n",
       "      <td>0.020000</td>\n",
       "      <td>0.339071</td>\n",
       "      <td>1.059853</td>\n",
       "      <td>2866.500000</td>\n",
       "    </tr>\n",
       "    <tr>\n",
       "      <th>Nonfiction</th>\n",
       "      <td>1062.0</td>\n",
       "      <td>0.526283</td>\n",
       "      <td>0.872587</td>\n",
       "      <td>0.0</td>\n",
       "      <td>0.007413</td>\n",
       "      <td>0.111024</td>\n",
       "      <td>1.031301</td>\n",
       "      <td>11.959096</td>\n",
       "    </tr>\n",
       "    <tr>\n",
       "      <th>Open Hardware</th>\n",
       "      <td>185.0</td>\n",
       "      <td>2.015658</td>\n",
       "      <td>4.212623</td>\n",
       "      <td>0.0</td>\n",
       "      <td>0.085000</td>\n",
       "      <td>1.038250</td>\n",
       "      <td>2.020237</td>\n",
       "      <td>33.697500</td>\n",
       "    </tr>\n",
       "    <tr>\n",
       "      <th>Open Software</th>\n",
       "      <td>254.0</td>\n",
       "      <td>0.558974</td>\n",
       "      <td>1.430744</td>\n",
       "      <td>0.0</td>\n",
       "      <td>0.007976</td>\n",
       "      <td>0.075250</td>\n",
       "      <td>1.012525</td>\n",
       "      <td>20.064184</td>\n",
       "    </tr>\n",
       "    <tr>\n",
       "      <th>Painting</th>\n",
       "      <td>518.0</td>\n",
       "      <td>0.806181</td>\n",
       "      <td>1.595027</td>\n",
       "      <td>0.0</td>\n",
       "      <td>0.034556</td>\n",
       "      <td>0.541429</td>\n",
       "      <td>1.154712</td>\n",
       "      <td>30.800000</td>\n",
       "    </tr>\n",
       "    <tr>\n",
       "      <th>Performance Art</th>\n",
       "      <td>506.0</td>\n",
       "      <td>0.712267</td>\n",
       "      <td>0.621009</td>\n",
       "      <td>0.0</td>\n",
       "      <td>0.062700</td>\n",
       "      <td>1.001057</td>\n",
       "      <td>1.090251</td>\n",
       "      <td>5.033333</td>\n",
       "    </tr>\n",
       "    <tr>\n",
       "      <th>Periodical</th>\n",
       "      <td>291.0</td>\n",
       "      <td>0.717458</td>\n",
       "      <td>0.883021</td>\n",
       "      <td>0.0</td>\n",
       "      <td>0.022676</td>\n",
       "      <td>0.476111</td>\n",
       "      <td>1.116865</td>\n",
       "      <td>8.512000</td>\n",
       "    </tr>\n",
       "    <tr>\n",
       "      <th>Photography</th>\n",
       "      <td>1514.0</td>\n",
       "      <td>0.669175</td>\n",
       "      <td>0.825000</td>\n",
       "      <td>0.0</td>\n",
       "      <td>0.029073</td>\n",
       "      <td>0.335833</td>\n",
       "      <td>1.100000</td>\n",
       "      <td>10.000000</td>\n",
       "    </tr>\n",
       "    <tr>\n",
       "      <th>Poetry</th>\n",
       "      <td>222.0</td>\n",
       "      <td>0.732520</td>\n",
       "      <td>2.598834</td>\n",
       "      <td>0.0</td>\n",
       "      <td>0.004909</td>\n",
       "      <td>0.229595</td>\n",
       "      <td>1.049527</td>\n",
       "      <td>38.000000</td>\n",
       "    </tr>\n",
       "    <tr>\n",
       "      <th>Pop</th>\n",
       "      <td>746.0</td>\n",
       "      <td>0.826046</td>\n",
       "      <td>0.672823</td>\n",
       "      <td>0.0</td>\n",
       "      <td>0.104250</td>\n",
       "      <td>1.020000</td>\n",
       "      <td>1.142328</td>\n",
       "      <td>6.515743</td>\n",
       "    </tr>\n",
       "    <tr>\n",
       "      <th>Product Design</th>\n",
       "      <td>1053.0</td>\n",
       "      <td>3.171343</td>\n",
       "      <td>41.836533</td>\n",
       "      <td>0.0</td>\n",
       "      <td>0.047857</td>\n",
       "      <td>0.293500</td>\n",
       "      <td>1.249402</td>\n",
       "      <td>1340.900000</td>\n",
       "    </tr>\n",
       "    <tr>\n",
       "      <th>Public Art</th>\n",
       "      <td>564.0</td>\n",
       "      <td>0.894815</td>\n",
       "      <td>1.142282</td>\n",
       "      <td>0.0</td>\n",
       "      <td>0.176442</td>\n",
       "      <td>1.014455</td>\n",
       "      <td>1.106977</td>\n",
       "      <td>16.000000</td>\n",
       "    </tr>\n",
       "    <tr>\n",
       "      <th>Publishing</th>\n",
       "      <td>673.0</td>\n",
       "      <td>2.954895</td>\n",
       "      <td>60.435205</td>\n",
       "      <td>0.0</td>\n",
       "      <td>0.011765</td>\n",
       "      <td>0.148000</td>\n",
       "      <td>1.044118</td>\n",
       "      <td>1568.000000</td>\n",
       "    </tr>\n",
       "    <tr>\n",
       "      <th>Rock</th>\n",
       "      <td>1791.0</td>\n",
       "      <td>0.870081</td>\n",
       "      <td>0.730928</td>\n",
       "      <td>0.0</td>\n",
       "      <td>0.160000</td>\n",
       "      <td>1.024000</td>\n",
       "      <td>1.158413</td>\n",
       "      <td>12.400000</td>\n",
       "    </tr>\n",
       "    <tr>\n",
       "      <th>Sculpture</th>\n",
       "      <td>356.0</td>\n",
       "      <td>2.071405</td>\n",
       "      <td>19.495129</td>\n",
       "      <td>0.0</td>\n",
       "      <td>0.038273</td>\n",
       "      <td>1.000000</td>\n",
       "      <td>1.110625</td>\n",
       "      <td>335.000000</td>\n",
       "    </tr>\n",
       "    <tr>\n",
       "      <th>Short Film</th>\n",
       "      <td>3942.0</td>\n",
       "      <td>1.104580</td>\n",
       "      <td>18.475174</td>\n",
       "      <td>0.0</td>\n",
       "      <td>0.083500</td>\n",
       "      <td>1.009270</td>\n",
       "      <td>1.116665</td>\n",
       "      <td>1156.000000</td>\n",
       "    </tr>\n",
       "    <tr>\n",
       "      <th>Technology</th>\n",
       "      <td>372.0</td>\n",
       "      <td>0.912503</td>\n",
       "      <td>1.922794</td>\n",
       "      <td>0.0</td>\n",
       "      <td>0.024206</td>\n",
       "      <td>0.165333</td>\n",
       "      <td>1.170895</td>\n",
       "      <td>15.901189</td>\n",
       "    </tr>\n",
       "    <tr>\n",
       "      <th>Theater</th>\n",
       "      <td>2492.0</td>\n",
       "      <td>1.318760</td>\n",
       "      <td>22.040104</td>\n",
       "      <td>0.0</td>\n",
       "      <td>0.226933</td>\n",
       "      <td>1.028755</td>\n",
       "      <td>1.150000</td>\n",
       "      <td>1100.000000</td>\n",
       "    </tr>\n",
       "    <tr>\n",
       "      <th>Video Games</th>\n",
       "      <td>911.0</td>\n",
       "      <td>0.611313</td>\n",
       "      <td>1.666940</td>\n",
       "      <td>0.0</td>\n",
       "      <td>0.010000</td>\n",
       "      <td>0.076200</td>\n",
       "      <td>1.017750</td>\n",
       "      <td>32.482955</td>\n",
       "    </tr>\n",
       "    <tr>\n",
       "      <th>Webseries</th>\n",
       "      <td>1122.0</td>\n",
       "      <td>0.555226</td>\n",
       "      <td>0.687178</td>\n",
       "      <td>0.0</td>\n",
       "      <td>0.011500</td>\n",
       "      <td>0.193212</td>\n",
       "      <td>1.049583</td>\n",
       "      <td>6.615547</td>\n",
       "    </tr>\n",
       "    <tr>\n",
       "      <th>World Music</th>\n",
       "      <td>428.0</td>\n",
       "      <td>0.824821</td>\n",
       "      <td>0.773635</td>\n",
       "      <td>0.0</td>\n",
       "      <td>0.126607</td>\n",
       "      <td>1.023552</td>\n",
       "      <td>1.136250</td>\n",
       "      <td>9.867619</td>\n",
       "    </tr>\n",
       "  </tbody>\n",
       "</table>\n",
       "</div>"
      ],
      "text/plain": [
       "                       funded percentage                              \\\n",
       "                                   count       mean         std  min   \n",
       "subcategory                                                            \n",
       "Animation                          426.0   0.547983    0.774216  0.0   \n",
       "Art                               1076.0   1.601757   14.205710  0.0   \n",
       "Art Book                           339.0   0.828899    1.269087  0.0   \n",
       "Board & Card Games                 111.0   1.629443    2.976745  0.0   \n",
       "Board &amp; Card Games             442.0   2.641042   15.337050  0.0   \n",
       "Children's Book                    653.0   0.587980    2.383358  0.0   \n",
       "Classical Music                    482.0   2.051993   17.980809  0.0   \n",
       "Comics                            1072.0   2.045597   33.457935  0.0   \n",
       "Conceptual Art                     178.0  57.887286  749.484336  0.0   \n",
       "Country & Folk                     250.0   0.932261    0.650740  0.0   \n",
       "Country &amp; Folk                 808.0   1.809567   17.023583  0.0   \n",
       "Crafts                             255.0   1.199148    7.448735  0.0   \n",
       "Dance                              761.0   1.019342    3.639644  0.0   \n",
       "Design                             285.0   0.870647    1.112667  0.0   \n",
       "Digital Art                        144.0   0.669039    0.755140  0.0   \n",
       "Documentary                       4012.0   4.402928  237.851857  0.0   \n",
       "Electronic Music                   302.0   0.807151    0.892828  0.0   \n",
       "Fashion                           1136.0   1.034475   16.810605  0.0   \n",
       "Fiction                           1099.0   0.581191    1.009266  0.0   \n",
       "Film &amp; Video                  2495.0   0.791816    7.039068  0.0   \n",
       "Food                              1439.0   0.979268    8.918692  0.0   \n",
       "Games                              274.0   1.583779    2.502457  0.0   \n",
       "Graphic Design                     175.0  10.717156   82.368425  0.0   \n",
       "Hip-Hop                            477.0   0.486458    0.694794  0.0   \n",
       "Illustration                       206.0   1.132001    2.222131  0.0   \n",
       "Indie Rock                        1939.0   2.261494   42.545649  0.0   \n",
       "Jazz                               447.0   0.874080    0.616052  0.0   \n",
       "Journalism                         431.0   0.626367    0.687537  0.0   \n",
       "Mixed Media                        444.0   0.696626    0.912055  0.0   \n",
       "Music                             3243.0   0.871512    2.002641  0.0   \n",
       "Narrative Film                    1554.0   5.722179  109.655900  0.0   \n",
       "Nonfiction                        1062.0   0.526283    0.872587  0.0   \n",
       "Open Hardware                      185.0   2.015658    4.212623  0.0   \n",
       "Open Software                      254.0   0.558974    1.430744  0.0   \n",
       "Painting                           518.0   0.806181    1.595027  0.0   \n",
       "Performance Art                    506.0   0.712267    0.621009  0.0   \n",
       "Periodical                         291.0   0.717458    0.883021  0.0   \n",
       "Photography                       1514.0   0.669175    0.825000  0.0   \n",
       "Poetry                             222.0   0.732520    2.598834  0.0   \n",
       "Pop                                746.0   0.826046    0.672823  0.0   \n",
       "Product Design                    1053.0   3.171343   41.836533  0.0   \n",
       "Public Art                         564.0   0.894815    1.142282  0.0   \n",
       "Publishing                         673.0   2.954895   60.435205  0.0   \n",
       "Rock                              1791.0   0.870081    0.730928  0.0   \n",
       "Sculpture                          356.0   2.071405   19.495129  0.0   \n",
       "Short Film                        3942.0   1.104580   18.475174  0.0   \n",
       "Technology                         372.0   0.912503    1.922794  0.0   \n",
       "Theater                           2492.0   1.318760   22.040104  0.0   \n",
       "Video Games                        911.0   0.611313    1.666940  0.0   \n",
       "Webseries                         1122.0   0.555226    0.687178  0.0   \n",
       "World Music                        428.0   0.824821    0.773635  0.0   \n",
       "\n",
       "                                                                    \n",
       "                             25%       50%       75%           max  \n",
       "subcategory                                                         \n",
       "Animation               0.004071  0.120172  1.053590      6.078487  \n",
       "Art                     0.100550  1.016350  1.148143    336.000000  \n",
       "Art Book                0.033450  0.481200  1.205483     16.241111  \n",
       "Board & Card Games      0.049778  1.024000  1.810275     22.469320  \n",
       "Board &amp; Card Games  0.071337  1.024001  1.771547    305.140933  \n",
       "Children's Book         0.009000  0.100000  1.016875     50.156560  \n",
       "Classical Music         0.335795  1.037399  1.151500    280.142667  \n",
       "Comics                  0.050000  1.000000  1.276000   1095.000000  \n",
       "Conceptual Art          0.085893  1.004065  1.132798  10000.000000  \n",
       "Country & Folk          0.296375  1.051708  1.184600      4.036667  \n",
       "Country &amp; Folk      0.414792  1.052000  1.190462    369.000000  \n",
       "Crafts                  0.046607  0.376600  1.112956    118.800000  \n",
       "Dance                   0.368000  1.033667  1.141667    100.000000  \n",
       "Design                  0.070175  0.652267  1.183835      7.533333  \n",
       "Digital Art             0.007629  0.360100  1.071562      3.851632  \n",
       "Documentary             0.024214  0.326333  1.073432  15066.000000  \n",
       "Electronic Music        0.045198  1.000000  1.133125      6.094436  \n",
       "Fashion                 0.010000  0.111756  1.016667    566.000000  \n",
       "Fiction                 0.007703  0.112800  1.049150     12.685714  \n",
       "Film &amp; Video        0.008450  0.235363  1.060000    325.000000  \n",
       "Food                    0.046837  0.442602  1.090851    326.000000  \n",
       "Games                   0.038929  1.033975  1.875369     22.821000  \n",
       "Graphic Design          0.075500  1.089870  1.740083   1049.743200  \n",
       "Hip-Hop                 0.000000  0.055000  1.051493      5.873793  \n",
       "Illustration            0.087309  1.009100  1.298690     26.333333  \n",
       "Indie Rock              0.393250  1.050000  1.211198   1722.470000  \n",
       "Jazz                    0.269671  1.030631  1.139283      4.916667  \n",
       "Journalism              0.018983  0.331200  1.081028      5.021667  \n",
       "Mixed Media             0.045639  0.438750  1.075250      9.418168  \n",
       "Music                   0.122621  1.021000  1.146400    105.000000  \n",
       "Narrative Film          0.020000  0.339071  1.059853   2866.500000  \n",
       "Nonfiction              0.007413  0.111024  1.031301     11.959096  \n",
       "Open Hardware           0.085000  1.038250  2.020237     33.697500  \n",
       "Open Software           0.007976  0.075250  1.012525     20.064184  \n",
       "Painting                0.034556  0.541429  1.154712     30.800000  \n",
       "Performance Art         0.062700  1.001057  1.090251      5.033333  \n",
       "Periodical              0.022676  0.476111  1.116865      8.512000  \n",
       "Photography             0.029073  0.335833  1.100000     10.000000  \n",
       "Poetry                  0.004909  0.229595  1.049527     38.000000  \n",
       "Pop                     0.104250  1.020000  1.142328      6.515743  \n",
       "Product Design          0.047857  0.293500  1.249402   1340.900000  \n",
       "Public Art              0.176442  1.014455  1.106977     16.000000  \n",
       "Publishing              0.011765  0.148000  1.044118   1568.000000  \n",
       "Rock                    0.160000  1.024000  1.158413     12.400000  \n",
       "Sculpture               0.038273  1.000000  1.110625    335.000000  \n",
       "Short Film              0.083500  1.009270  1.116665   1156.000000  \n",
       "Technology              0.024206  0.165333  1.170895     15.901189  \n",
       "Theater                 0.226933  1.028755  1.150000   1100.000000  \n",
       "Video Games             0.010000  0.076200  1.017750     32.482955  \n",
       "Webseries               0.011500  0.193212  1.049583      6.615547  \n",
       "World Music             0.126607  1.023552  1.136250      9.867619  "
      ]
     },
     "execution_count": 38,
     "metadata": {},
     "output_type": "execute_result"
    }
   ],
   "source": [
    "sub_category_stats"
   ]
  },
  {
   "cell_type": "code",
   "execution_count": 39,
   "metadata": {},
   "outputs": [],
   "source": [
    "# let's now create a function that will return both successful and failed for both categories and subcategories\n",
    "def get_data(c_df, sc_df):\n",
    "    success_mask_c, success_mask_sc = c_df['status']=='successful', sc_df['status']=='successful'\n",
    "    failed_mask_c,  failed_mask_sc = c_df['status']=='failed', sc_df['status']=='failed'\n",
    "    \n",
    "    success_category, success_sub_category = c_df[success_mask_c], sc_df[success_mask_sc]\n",
    "    failed_category, failed_sub_category = c_df[failed_mask_c], sc_df[failed_mask_sc]\n",
    "    \n",
    "    return success_category, failed_category, success_sub_category, failed_sub_category\n",
    "\n",
    "def get_dfs(df):\n",
    "    category_columns = ['category', 'status', 'funded percentage']\n",
    "    sub_category_columns = ['subcategory', 'status', 'funded percentage']\n",
    "    \n",
    "    category_df = df[category_columns]\n",
    "    sub_category_df = df[sub_category_columns]\n",
    "    \n",
    "    return category_df, sub_category_df"
   ]
  },
  {
   "cell_type": "code",
   "execution_count": 40,
   "metadata": {},
   "outputs": [],
   "source": [
    "# getting our datasets\n",
    "success_category, failed_category, success_sub_category, failed_sub_category = get_data(*get_dfs(projects_df))"
   ]
  },
  {
   "cell_type": "code",
   "execution_count": 41,
   "metadata": {},
   "outputs": [
    {
     "data": {
      "text/plain": [
       "(22969, 18996, 22969, 18996)"
      ]
     },
     "execution_count": 41,
     "metadata": {},
     "output_type": "execute_result"
    }
   ],
   "source": [
    "len(success_category), len(failed_category), len(success_sub_category), len(failed_sub_category)"
   ]
  },
  {
   "cell_type": "code",
   "execution_count": 75,
   "metadata": {},
   "outputs": [],
   "source": [
    "sns.set(rc={'figure.figsize':(18.7,9)})"
   ]
  },
  {
   "cell_type": "code",
   "execution_count": 76,
   "metadata": {},
   "outputs": [
    {
     "data": {
      "text/plain": [
       "<matplotlib.axes._subplots.AxesSubplot at 0x130c105c0>"
      ]
     },
     "execution_count": 76,
     "metadata": {},
     "output_type": "execute_result"
    },
    {
     "data": {
      "image/png": "[encoded data removed]",
      "text/plain": [
       "<Figure size 1346.4x648 with 1 Axes>"
      ]
     },
     "metadata": {},
     "output_type": "display_data"
    }
   ],
   "source": [
    "# success\n",
    "sns.countplot(x='category', data=success_category)"
   ]
  },
  {
   "cell_type": "code",
   "execution_count": 74,
   "metadata": {},
   "outputs": [
    {
     "data": {
      "image/png": "[encoded data removed]",
      "text/plain": [
       "<Figure size 1944x648 with 1 Axes>"
      ]
     },
     "metadata": {},
     "output_type": "display_data"
    }
   ],
   "source": [
    "sns.set(rc={'figure.figsize':(27,9)})\n",
    "sb = sns.countplot(x='subcategory', data=success_sub_category)\n",
    "sb.set_xticklabels(labels=success_sub_category['subcategory'], rotation=30)\n",
    "for item in sb.get_xticklabels():\n",
    "    item.set_rotation(45)"
   ]
  },
  {
   "cell_type": "code",
   "execution_count": 77,
   "metadata": {},
   "outputs": [
    {
     "data": {
      "text/plain": [
       "<matplotlib.axes._subplots.AxesSubplot at 0x12ddc3b70>"
      ]
     },
     "execution_count": 77,
     "metadata": {},
     "output_type": "execute_result"
    },
    {
     "data": {
      "image/png": "[encoded data removed]",
      "text/plain": [
       "<Figure size 1346.4x648 with 1 Axes>"
      ]
     },
     "metadata": {},
     "output_type": "display_data"
    }
   ],
   "source": [
    "# failed\n",
    "sns.countplot(x='category', data=failed_category)"
   ]
  },
  {
   "cell_type": "code",
   "execution_count": 78,
   "metadata": {},
   "outputs": [
    {
     "data": {
      "image/png": "[encoded data removed]",
      "text/plain": [
       "<Figure size 1944x648 with 1 Axes>"
      ]
     },
     "metadata": {},
     "output_type": "display_data"
    }
   ],
   "source": [
    "sns.set(rc={'figure.figsize':(27,9)})\n",
    "sb = sns.countplot(x='subcategory', data=failed_sub_category)\n",
    "sb.set_xticklabels(labels=failed_sub_category['subcategory'], rotation=30)\n",
    "for item in sb.get_xticklabels():\n",
    "    item.set_rotation(45)"
   ]
  },
  {
   "cell_type": "code",
   "execution_count": 86,
   "metadata": {},
   "outputs": [
    {
     "data": {
      "text/plain": [
       "Art                 1.328707\n",
       "Comics              1.160714\n",
       "Dance               2.927778\n",
       "Design              0.870968\n",
       "Fashion             0.489766\n",
       "Film & Video        1.171429\n",
       "Film &amp; Video    1.036062\n",
       "Food                1.018663\n",
       "Games               0.763221\n",
       "Music               2.082797\n",
       "Photography         0.869272\n",
       "Publishing          0.672705\n",
       "Technology          0.645089\n",
       "Theater             2.414706\n",
       "Name: category, dtype: float64"
      ]
     },
     "execution_count": 86,
     "metadata": {},
     "output_type": "execute_result"
    }
   ],
   "source": [
    "# success fail ratios\n",
    "success_category['category'].value_counts() / failed_category['category'].value_counts()"
   ]
  },
  {
   "cell_type": "code",
   "execution_count": 93,
   "metadata": {},
   "outputs": [],
   "source": [
    "success_ratios = success_category['category'].value_counts() / failed_category['category'].value_counts()"
   ]
  },
  {
   "cell_type": "code",
   "execution_count": 105,
   "metadata": {},
   "outputs": [
    {
     "data": {
      "text/plain": [
       "<matplotlib.axes._subplots.AxesSubplot at 0x130c32358>"
      ]
     },
     "execution_count": 105,
     "metadata": {},
     "output_type": "execute_result"
    },
    {
     "data": {
      "image/png": "[encoded data removed]",
      "text/plain": [
       "<Figure size 1944x648 with 1 Axes>"
      ]
     },
     "metadata": {},
     "output_type": "display_data"
    }
   ],
   "source": [
    "sns.barplot(success_ratios.index, success_ratios.values)"
   ]
  },
  {
   "cell_type": "code",
   "execution_count": 110,
   "metadata": {},
   "outputs": [
    {
     "data": {
      "text/plain": [
       "Country &amp; Folk        3.080645\n",
       "Indie Rock                2.965066\n",
       "Dance                     2.927778\n",
       "Classical Music           2.918182\n",
       "Jazz                      2.577586\n",
       "Country & Folk            2.553846\n",
       "Theater                   2.414706\n",
       "Rock                      2.181641\n",
       "Pop                       1.952991\n",
       "Public Art                1.925287\n",
       "Music                     1.833176\n",
       "World Music               1.755396\n",
       "Short Film                1.596953\n",
       "Art                       1.525000\n",
       "Graphic Design            1.469697\n",
       "Illustration              1.441558\n",
       "Performance Art           1.413613\n",
       "Conceptual Art            1.385714\n",
       "Open Hardware             1.310811\n",
       "Games                     1.304762\n",
       "Electronic Music          1.277311\n",
       "Board &amp; Card Games    1.269461\n",
       "Sculpture                 1.171053\n",
       "Comics                    1.160714\n",
       "Board & Card Games        1.139535\n",
       "Art Book                  1.104895\n",
       "Periodical                1.087302\n",
       "Design                    1.039062\n",
       "Food                      1.018663\n",
       "Painting                  1.004149\n",
       "Narrative Film            0.972028\n",
       "Digital Art               0.942029\n",
       "Mixed Media               0.938389\n",
       "Documentary               0.932461\n",
       "Journalism                0.896714\n",
       "Photography               0.869272\n",
       "Crafts                    0.846774\n",
       "Film &amp; Video          0.834639\n",
       "Poetry                    0.769912\n",
       "Product Design            0.759152\n",
       "Webseries                 0.725589\n",
       "Publishing                0.642667\n",
       "Animation                 0.622318\n",
       "Hip-Hop                   0.613027\n",
       "Nonfiction                0.596745\n",
       "Fiction                   0.589916\n",
       "Technology                0.571429\n",
       "Fashion                   0.489766\n",
       "Children's Book           0.480874\n",
       "Video Games               0.458414\n",
       "Open Software             0.439024\n",
       "Name: subcategory, dtype: float64"
      ]
     },
     "execution_count": 110,
     "metadata": {},
     "output_type": "execute_result"
    }
   ],
   "source": [
    "success_ratios_sub = success_sub_category['subcategory'].value_counts() / failed_sub_category['subcategory'].value_counts()\n",
    "success_ratios_sub.sort_values(ascending=False)"
   ]
  },
  {
   "cell_type": "markdown",
   "metadata": {},
   "source": [
    "### Conclusion 3.\n",
    "From our analysis we can finally look at our ```success_ratios``` barplot to see which **categories** are most successful. Anything above ```1.``` is relatively more successful. The most successful being: ```Dance, Theater, Music```.  \n",
    "\n",
    "From our analysis of our **subcategories** we can say with confidence that: ```Country &amp;Folk, Indie Rock, Dance``` are the top three, with a pattern of the arts being on top. "
   ]
  },
  {
   "cell_type": "markdown",
   "metadata": {},
   "source": [
    "## 4. Is there an ideal month/day/time to launch a campaign?"
   ]
  },
  {
   "cell_type": "code",
   "execution_count": 129,
   "metadata": {},
   "outputs": [],
   "source": [
    "# let's form a new df\n",
    "columns = ['status', 'funded date']\n",
    "date_df = DSI_DF[columns].copy()"
   ]
  },
  {
   "cell_type": "code",
   "execution_count": 130,
   "metadata": {},
   "outputs": [
    {
     "name": "stdout",
     "output_type": "stream",
     "text": [
      "<class 'pandas.core.frame.DataFrame'>\n",
      "RangeIndex: 45957 entries, 0 to 45956\n",
      "Data columns (total 2 columns):\n",
      "status         45957 non-null object\n",
      "funded date    45957 non-null object\n",
      "dtypes: object(2)\n",
      "memory usage: 718.2+ KB\n"
     ]
    }
   ],
   "source": [
    "date_df.info()"
   ]
  },
  {
   "cell_type": "code",
   "execution_count": 131,
   "metadata": {},
   "outputs": [
    {
     "data": {
      "text/plain": [
       "str"
      ]
     },
     "execution_count": 131,
     "metadata": {},
     "output_type": "execute_result"
    }
   ],
   "source": [
    "type(date_df['funded date'][0])"
   ]
  },
  {
   "cell_type": "code",
   "execution_count": 132,
   "metadata": {},
   "outputs": [],
   "source": [
    "# we need to convert to timestamps\n",
    "date_df['funded date'] = pd.to_datetime(date_df['funded date'])"
   ]
  },
  {
   "cell_type": "code",
   "execution_count": 145,
   "metadata": {},
   "outputs": [],
   "source": [
    "# creating our new columns\n",
    "date_df['month'] = date_df['funded date'].dt.month\n",
    "date_df['day'] = date_df['funded date'].dt.day\n",
    "date_df['time'] = date_df['funded date'].dt.time"
   ]
  },
  {
   "cell_type": "code",
   "execution_count": 146,
   "metadata": {},
   "outputs": [
    {
     "data": {
      "text/html": [
       "<div>\n",
       "<style scoped>\n",
       "    .dataframe tbody tr th:only-of-type {\n",
       "        vertical-align: middle;\n",
       "    }\n",
       "\n",
       "    .dataframe tbody tr th {\n",
       "        vertical-align: top;\n",
       "    }\n",
       "\n",
       "    .dataframe thead th {\n",
       "        text-align: right;\n",
       "    }\n",
       "</style>\n",
       "<table border=\"1\" class=\"dataframe\">\n",
       "  <thead>\n",
       "    <tr style=\"text-align: right;\">\n",
       "      <th></th>\n",
       "      <th>status</th>\n",
       "      <th>funded date</th>\n",
       "      <th>month</th>\n",
       "      <th>day</th>\n",
       "      <th>time</th>\n",
       "    </tr>\n",
       "  </thead>\n",
       "  <tbody>\n",
       "    <tr>\n",
       "      <th>0</th>\n",
       "      <td>successful</td>\n",
       "      <td>2011-08-19 19:28:17+00:00</td>\n",
       "      <td>8</td>\n",
       "      <td>19</td>\n",
       "      <td>19:28:17</td>\n",
       "    </tr>\n",
       "    <tr>\n",
       "      <th>1</th>\n",
       "      <td>failed</td>\n",
       "      <td>2010-08-02 03:59:00+00:00</td>\n",
       "      <td>8</td>\n",
       "      <td>2</td>\n",
       "      <td>03:59:00</td>\n",
       "    </tr>\n",
       "    <tr>\n",
       "      <th>2</th>\n",
       "      <td>live</td>\n",
       "      <td>2012-06-08 00:00:31+00:00</td>\n",
       "      <td>6</td>\n",
       "      <td>8</td>\n",
       "      <td>00:00:31</td>\n",
       "    </tr>\n",
       "    <tr>\n",
       "      <th>3</th>\n",
       "      <td>successful</td>\n",
       "      <td>2012-04-08 02:14:00+00:00</td>\n",
       "      <td>4</td>\n",
       "      <td>8</td>\n",
       "      <td>02:14:00</td>\n",
       "    </tr>\n",
       "    <tr>\n",
       "      <th>4</th>\n",
       "      <td>failed</td>\n",
       "      <td>2011-06-01 15:25:39+00:00</td>\n",
       "      <td>6</td>\n",
       "      <td>1</td>\n",
       "      <td>15:25:39</td>\n",
       "    </tr>\n",
       "  </tbody>\n",
       "</table>\n",
       "</div>"
      ],
      "text/plain": [
       "       status               funded date  month  day      time\n",
       "0  successful 2011-08-19 19:28:17+00:00      8   19  19:28:17\n",
       "1      failed 2010-08-02 03:59:00+00:00      8    2  03:59:00\n",
       "2        live 2012-06-08 00:00:31+00:00      6    8  00:00:31\n",
       "3  successful 2012-04-08 02:14:00+00:00      4    8  02:14:00\n",
       "4      failed 2011-06-01 15:25:39+00:00      6    1  15:25:39"
      ]
     },
     "execution_count": 146,
     "metadata": {},
     "output_type": "execute_result"
    }
   ],
   "source": [
    "date_df.head()"
   ]
  },
  {
   "cell_type": "code",
   "execution_count": 150,
   "metadata": {},
   "outputs": [],
   "source": [
    "# let's add day of week\n",
    "date_df['day_of_week'] = date_df['funded date'].dt.day_name()"
   ]
  },
  {
   "cell_type": "code",
   "execution_count": 151,
   "metadata": {},
   "outputs": [
    {
     "data": {
      "text/html": [
       "<div>\n",
       "<style scoped>\n",
       "    .dataframe tbody tr th:only-of-type {\n",
       "        vertical-align: middle;\n",
       "    }\n",
       "\n",
       "    .dataframe tbody tr th {\n",
       "        vertical-align: top;\n",
       "    }\n",
       "\n",
       "    .dataframe thead th {\n",
       "        text-align: right;\n",
       "    }\n",
       "</style>\n",
       "<table border=\"1\" class=\"dataframe\">\n",
       "  <thead>\n",
       "    <tr style=\"text-align: right;\">\n",
       "      <th></th>\n",
       "      <th>status</th>\n",
       "      <th>funded date</th>\n",
       "      <th>month</th>\n",
       "      <th>day</th>\n",
       "      <th>time</th>\n",
       "      <th>day_of_week</th>\n",
       "    </tr>\n",
       "  </thead>\n",
       "  <tbody>\n",
       "    <tr>\n",
       "      <th>0</th>\n",
       "      <td>successful</td>\n",
       "      <td>2011-08-19 19:28:17+00:00</td>\n",
       "      <td>8</td>\n",
       "      <td>19</td>\n",
       "      <td>19:28:17</td>\n",
       "      <td>Friday</td>\n",
       "    </tr>\n",
       "    <tr>\n",
       "      <th>1</th>\n",
       "      <td>failed</td>\n",
       "      <td>2010-08-02 03:59:00+00:00</td>\n",
       "      <td>8</td>\n",
       "      <td>2</td>\n",
       "      <td>03:59:00</td>\n",
       "      <td>Monday</td>\n",
       "    </tr>\n",
       "    <tr>\n",
       "      <th>2</th>\n",
       "      <td>live</td>\n",
       "      <td>2012-06-08 00:00:31+00:00</td>\n",
       "      <td>6</td>\n",
       "      <td>8</td>\n",
       "      <td>00:00:31</td>\n",
       "      <td>Friday</td>\n",
       "    </tr>\n",
       "    <tr>\n",
       "      <th>3</th>\n",
       "      <td>successful</td>\n",
       "      <td>2012-04-08 02:14:00+00:00</td>\n",
       "      <td>4</td>\n",
       "      <td>8</td>\n",
       "      <td>02:14:00</td>\n",
       "      <td>Sunday</td>\n",
       "    </tr>\n",
       "    <tr>\n",
       "      <th>4</th>\n",
       "      <td>failed</td>\n",
       "      <td>2011-06-01 15:25:39+00:00</td>\n",
       "      <td>6</td>\n",
       "      <td>1</td>\n",
       "      <td>15:25:39</td>\n",
       "      <td>Wednesday</td>\n",
       "    </tr>\n",
       "  </tbody>\n",
       "</table>\n",
       "</div>"
      ],
      "text/plain": [
       "       status               funded date  month  day      time day_of_week\n",
       "0  successful 2011-08-19 19:28:17+00:00      8   19  19:28:17      Friday\n",
       "1      failed 2010-08-02 03:59:00+00:00      8    2  03:59:00      Monday\n",
       "2        live 2012-06-08 00:00:31+00:00      6    8  00:00:31      Friday\n",
       "3  successful 2012-04-08 02:14:00+00:00      4    8  02:14:00      Sunday\n",
       "4      failed 2011-06-01 15:25:39+00:00      6    1  15:25:39   Wednesday"
      ]
     },
     "execution_count": 151,
     "metadata": {},
     "output_type": "execute_result"
    }
   ],
   "source": [
    "date_df.head()"
   ]
  },
  {
   "cell_type": "code",
   "execution_count": 152,
   "metadata": {},
   "outputs": [],
   "source": [
    "# let's get successful and failed dfs\n",
    "success_mask = date_df['status']=='successful'\n",
    "failed_mask = date_df['status']=='failed'\n",
    "\n",
    "date_df_success = date_df[success_mask].copy()\n",
    "date_df_failed = date_df[failed_mask].copy()"
   ]
  },
  {
   "cell_type": "code",
   "execution_count": 155,
   "metadata": {},
   "outputs": [],
   "source": [
    "# let's now run our analysis\n",
    "month_success_ratio = date_df_success['month'].value_counts() / date_df_failed['month'].value_counts()\n",
    "day_success_ratio = date_df_success['day'].value_counts() / date_df_failed['day'].value_counts()\n",
    "day_of_week_success_ratio = date_df_success['day_of_week'].value_counts() / date_df_failed['day_of_week'].value_counts()\n",
    "time_success_ratio = date_df_success['time'].value_counts() / date_df_failed['time'].value_counts()"
   ]
  },
  {
   "cell_type": "code",
   "execution_count": 156,
   "metadata": {},
   "outputs": [
    {
     "data": {
      "text/plain": [
       "11    1.350846\n",
       "4     1.333182\n",
       "3     1.317743\n",
       "8     1.208999\n",
       "10    1.203777\n",
       "2     1.200817\n",
       "9     1.188245\n",
       "6     1.170732\n",
       "1     1.147303\n",
       "5     1.142643\n",
       "7     1.130988\n",
       "12    1.095934\n",
       "Name: month, dtype: float64"
      ]
     },
     "execution_count": 156,
     "metadata": {},
     "output_type": "execute_result"
    }
   ],
   "source": [
    "# best months?\n",
    "month_success_ratio.sort_values(ascending=False)"
   ]
  },
  {
   "cell_type": "code",
   "execution_count": 161,
   "metadata": {},
   "outputs": [
    {
     "data": {
      "text/plain": [
       "12    1.531250\n",
       "5     1.396022\n",
       "2     1.357494\n",
       "9     1.345455\n",
       "16    1.320225\n",
       "1     1.304784\n",
       "3     1.286942\n",
       "17    1.285714\n",
       "21    1.261789\n",
       "23    1.257463\n",
       "15    1.252454\n",
       "13    1.248577\n",
       "19    1.223386\n",
       "22    1.192308\n",
       "14    1.192042\n",
       "25    1.185430\n",
       "18    1.181524\n",
       "6     1.170984\n",
       "4     1.167496\n",
       "8     1.147425\n",
       "24    1.143103\n",
       "7     1.141397\n",
       "11    1.116800\n",
       "26    1.115702\n",
       "20    1.105016\n",
       "10    1.103774\n",
       "27    1.100539\n",
       "30    1.085034\n",
       "29    1.065010\n",
       "31    1.032727\n",
       "28    1.027273\n",
       "Name: day, dtype: float64"
      ]
     },
     "execution_count": 161,
     "metadata": {},
     "output_type": "execute_result"
    }
   ],
   "source": [
    "day_success_ratio.sort_values(ascending=False)"
   ]
  },
  {
   "cell_type": "code",
   "execution_count": 162,
   "metadata": {},
   "outputs": [
    {
     "data": {
      "text/plain": [
       "Monday       1.260133\n",
       "Thursday     1.251321\n",
       "Wednesday    1.219794\n",
       "Saturday     1.210647\n",
       "Sunday       1.194464\n",
       "Friday       1.171301\n",
       "Tuesday      1.155611\n",
       "Name: day_of_week, dtype: float64"
      ]
     },
     "execution_count": 162,
     "metadata": {},
     "output_type": "execute_result"
    }
   ],
   "source": [
    "day_of_week_success_ratio.sort_values(ascending=False)"
   ]
  },
  {
   "cell_type": "markdown",
   "metadata": {},
   "source": [
    "### Conclussion 4.\n",
    "Surprisingly there are some patterns here. The best months seem to be ```November, April, March```. This could be because of the holidays. The best day of the month is the ```12th``` which is right about the middle of the month. The best day of the week seems to be ```Monday```. "
   ]
  },
  {
   "cell_type": "code",
   "execution_count": null,
   "metadata": {},
   "outputs": [],
   "source": []
  },
  {
   "cell_type": "code",
   "execution_count": null,
   "metadata": {},
   "outputs": [],
   "source": []
  },
  {
   "cell_type": "code",
   "execution_count": null,
   "metadata": {},
   "outputs": [],
   "source": []
  },
  {
   "cell_type": "code",
   "execution_count": null,
   "metadata": {},
   "outputs": [],
   "source": []
  },
  {
   "cell_type": "code",
   "execution_count": null,
   "metadata": {},
   "outputs": [],
   "source": []
  },
  {
   "cell_type": "code",
   "execution_count": null,
   "metadata": {},
   "outputs": [],
   "source": []
  },
  {
   "cell_type": "code",
   "execution_count": null,
   "metadata": {},
   "outputs": [],
   "source": []
  },
  {
   "cell_type": "code",
   "execution_count": null,
   "metadata": {},
   "outputs": [],
   "source": []
  },
  {
   "cell_type": "code",
   "execution_count": null,
   "metadata": {},
   "outputs": [],
   "source": []
  },
  {
   "cell_type": "code",
   "execution_count": null,
   "metadata": {},
   "outputs": [],
   "source": []
  },
  {
   "cell_type": "code",
   "execution_count": null,
   "metadata": {},
   "outputs": [],
   "source": []
  },
  {
   "cell_type": "code",
   "execution_count": null,
   "metadata": {},
   "outputs": [],
   "source": []
  }
 ],
 "metadata": {
  "kernelspec": {
   "display_name": "Python 3",
   "language": "python",
   "name": "python3"
  },
  "language_info": {
   "codemirror_mode": {
    "name": "ipython",
    "version": 3
   },
   "file_extension": ".py",
   "mimetype": "text/x-python",
   "name": "python",
   "nbconvert_exporter": "python",
   "pygments_lexer": "ipython3",
   "version": "3.6.8"
  }
 },
 "nbformat": 4,
 "nbformat_minor": 2
}
