{
 "cells": [
  {
   "cell_type": "markdown",
   "metadata": {},
   "source": [
    "# Kickstarter Foundational Data Analysis\n",
    "Kickstarter, the crowdfunding platform, is thinking about providing a consulting service to project founders to help its customers create more successful crowdfunding campaigns. You’ve been asked to do some initial analysis. \n",
    "\n",
    "In order to complete this assignment, please follow the link and download the following Kickstarter dataset: http://bit.ly/2cgMGDm. Use the dataset to complete this task.\n",
    "\n",
    "Below I will use Python and some libraries for the task! Let's begin."
   ]
  },
  {
   "cell_type": "markdown",
   "metadata": {},
   "source": [
    "## 1. Downloaded Data\n",
    "I downloaded the data manually via link but not let's bring it into our ```./data``` directory!"
   ]
  },
  {
   "cell_type": "code",
   "execution_count": 9,
   "metadata": {},
   "outputs": [
    {
     "name": "stdout",
     "output_type": "stream",
     "text": [
      "/Users/diegomedina-bernal/Desktop/MadGeniusLearning/GA_DataScience/DSI_01\n"
     ]
    }
   ],
   "source": [
    "# Our working directory\n",
    "!pwd"
   ]
  },
  {
   "cell_type": "code",
   "execution_count": 14,
   "metadata": {},
   "outputs": [],
   "source": [
    "# let's now move from desktop to here!\n",
    "file_path = '../../../DSI_kickstarterscrape_dataset.csv'\n",
    "new_path = './data'\n",
    "\n",
    "# moving our file\n",
    "!mv {file_path} {new_path}"
   ]
  },
  {
   "cell_type": "code",
   "execution_count": 15,
   "metadata": {},
   "outputs": [
    {
     "name": "stdout",
     "output_type": "stream",
     "text": [
      "DSI_kickstarterscrape_dataset.csv\n"
     ]
    }
   ],
   "source": [
    "# checking if its there\n",
    "!ls ./data/"
   ]
  },
  {
   "cell_type": "markdown",
   "metadata": {},
   "source": [
    "## 2. Exploring Data\n",
    "For our data exploring task we will use ```Pandas```. From here on out we will refer to this kickstarter file as ```DSI_*```"
   ]
  },
  {
   "cell_type": "code",
   "execution_count": 12,
   "metadata": {},
   "outputs": [],
   "source": [
    "import pandas as pd\n",
    "import os\n",
    "import time"
   ]
  },
  {
   "cell_type": "code",
   "execution_count": 17,
   "metadata": {},
   "outputs": [],
   "source": [
    "# setting new file path\n",
    "DSI_path = './data/DSI_kickstarterscrape_dataset.csv'\n",
    "\n",
    "# using CSV Load: Will transform into Pandas DataFrame object\n",
    "DSI_DF = pd.read_csv(DSI_path, encoding='ISO-8859-1')"
   ]
  },
  {
   "cell_type": "code",
   "execution_count": 19,
   "metadata": {},
   "outputs": [
    {
     "data": {
      "text/html": [
       "<div>\n",
       "<style scoped>\n",
       "    .dataframe tbody tr th:only-of-type {\n",
       "        vertical-align: middle;\n",
       "    }\n",
       "\n",
       "    .dataframe tbody tr th {\n",
       "        vertical-align: top;\n",
       "    }\n",
       "\n",
       "    .dataframe thead th {\n",
       "        text-align: right;\n",
       "    }\n",
       "</style>\n",
       "<table border=\"1\" class=\"dataframe\">\n",
       "  <thead>\n",
       "    <tr style=\"text-align: right;\">\n",
       "      <th></th>\n",
       "      <th>project id</th>\n",
       "      <th>name</th>\n",
       "      <th>url</th>\n",
       "      <th>category</th>\n",
       "      <th>subcategory</th>\n",
       "      <th>location</th>\n",
       "      <th>status</th>\n",
       "      <th>goal</th>\n",
       "      <th>pledged</th>\n",
       "      <th>funded percentage</th>\n",
       "      <th>backers</th>\n",
       "      <th>funded date</th>\n",
       "      <th>levels</th>\n",
       "      <th>reward levels</th>\n",
       "      <th>updates</th>\n",
       "      <th>comments</th>\n",
       "      <th>duration</th>\n",
       "    </tr>\n",
       "  </thead>\n",
       "  <tbody>\n",
       "    <tr>\n",
       "      <th>0</th>\n",
       "      <td>39409</td>\n",
       "      <td>WHILE THE TREES SLEEP</td>\n",
       "      <td>http://www.kickstarter.com/projects/emiliesaba...</td>\n",
       "      <td>Film &amp; Video</td>\n",
       "      <td>Short Film</td>\n",
       "      <td>Columbia, MO</td>\n",
       "      <td>successful</td>\n",
       "      <td>10500.0</td>\n",
       "      <td>11545.0</td>\n",
       "      <td>1.099524</td>\n",
       "      <td>66</td>\n",
       "      <td>Fri, 19 Aug 2011 19:28:17 -0000</td>\n",
       "      <td>7</td>\n",
       "      <td>$25,$50,$100,$250,$500,$1,000,$2,500</td>\n",
       "      <td>10</td>\n",
       "      <td>2</td>\n",
       "      <td>30.00</td>\n",
       "    </tr>\n",
       "    <tr>\n",
       "      <th>1</th>\n",
       "      <td>126581</td>\n",
       "      <td>Educational Online Trading Card Game</td>\n",
       "      <td>http://www.kickstarter.com/projects/972789543/...</td>\n",
       "      <td>Games</td>\n",
       "      <td>Board &amp; Card Games</td>\n",
       "      <td>Maplewood, NJ</td>\n",
       "      <td>failed</td>\n",
       "      <td>4000.0</td>\n",
       "      <td>20.0</td>\n",
       "      <td>0.005000</td>\n",
       "      <td>2</td>\n",
       "      <td>Mon, 02 Aug 2010 03:59:00 -0000</td>\n",
       "      <td>5</td>\n",
       "      <td>$1,$5,$10,$25,$50</td>\n",
       "      <td>6</td>\n",
       "      <td>0</td>\n",
       "      <td>47.18</td>\n",
       "    </tr>\n",
       "    <tr>\n",
       "      <th>2</th>\n",
       "      <td>138119</td>\n",
       "      <td>STRUM</td>\n",
       "      <td>http://www.kickstarter.com/projects/185476022/...</td>\n",
       "      <td>Film &amp; Video</td>\n",
       "      <td>Animation</td>\n",
       "      <td>Los Angeles, CA</td>\n",
       "      <td>live</td>\n",
       "      <td>20000.0</td>\n",
       "      <td>56.0</td>\n",
       "      <td>0.002800</td>\n",
       "      <td>3</td>\n",
       "      <td>Fri, 08 Jun 2012 00:00:31 -0000</td>\n",
       "      <td>10</td>\n",
       "      <td>$1,$10,$25,$40,$50,$100,$250,$1,000,$1,337,$9,001</td>\n",
       "      <td>1</td>\n",
       "      <td>0</td>\n",
       "      <td>28.00</td>\n",
       "    </tr>\n",
       "  </tbody>\n",
       "</table>\n",
       "</div>"
      ],
      "text/plain": [
       "   project id                                  name  \\\n",
       "0       39409                 WHILE THE TREES SLEEP   \n",
       "1      126581  Educational Online Trading Card Game   \n",
       "2      138119                                 STRUM   \n",
       "\n",
       "                                                 url      category  \\\n",
       "0  http://www.kickstarter.com/projects/emiliesaba...  Film & Video   \n",
       "1  http://www.kickstarter.com/projects/972789543/...         Games   \n",
       "2  http://www.kickstarter.com/projects/185476022/...  Film & Video   \n",
       "\n",
       "          subcategory         location      status     goal  pledged  \\\n",
       "0          Short Film     Columbia, MO  successful  10500.0  11545.0   \n",
       "1  Board & Card Games    Maplewood, NJ      failed   4000.0     20.0   \n",
       "2           Animation  Los Angeles, CA        live  20000.0     56.0   \n",
       "\n",
       "   funded percentage  backers                      funded date  levels  \\\n",
       "0           1.099524       66  Fri, 19 Aug 2011 19:28:17 -0000       7   \n",
       "1           0.005000        2  Mon, 02 Aug 2010 03:59:00 -0000       5   \n",
       "2           0.002800        3  Fri, 08 Jun 2012 00:00:31 -0000      10   \n",
       "\n",
       "                                       reward levels  updates  comments  \\\n",
       "0               $25,$50,$100,$250,$500,$1,000,$2,500       10         2   \n",
       "1                                  $1,$5,$10,$25,$50        6         0   \n",
       "2  $1,$10,$25,$40,$50,$100,$250,$1,000,$1,337,$9,001        1         0   \n",
       "\n",
       "   duration  \n",
       "0     30.00  \n",
       "1     47.18  \n",
       "2     28.00  "
      ]
     },
     "execution_count": 19,
     "metadata": {},
     "output_type": "execute_result"
    }
   ],
   "source": [
    "DSI_DF.head(3)"
   ]
  },
  {
   "cell_type": "code",
   "execution_count": 20,
   "metadata": {},
   "outputs": [
    {
     "name": "stdout",
     "output_type": "stream",
     "text": [
      "<class 'pandas.core.frame.DataFrame'>\n",
      "RangeIndex: 45957 entries, 0 to 45956\n",
      "Data columns (total 17 columns):\n",
      "project id           45957 non-null int64\n",
      "name                 45957 non-null object\n",
      "url                  45957 non-null object\n",
      "category             45957 non-null object\n",
      "subcategory          45957 non-null object\n",
      "location             44635 non-null object\n",
      "status               45957 non-null object\n",
      "goal                 45957 non-null float64\n",
      "pledged              45945 non-null float64\n",
      "funded percentage    45957 non-null float64\n",
      "backers              45957 non-null int64\n",
      "funded date          45957 non-null object\n",
      "levels               45957 non-null int64\n",
      "reward levels        45898 non-null object\n",
      "updates              45957 non-null int64\n",
      "comments             45957 non-null int64\n",
      "duration             45957 non-null float64\n",
      "dtypes: float64(4), int64(5), object(8)\n",
      "memory usage: 6.0+ MB\n"
     ]
    }
   ],
   "source": [
    "DSI_DF.info()"
   ]
  },
  {
   "cell_type": "markdown",
   "metadata": {},
   "source": [
    "## 3. Data Analysis\n",
    "Now that we have imported without any errors let's begin our Data Analysis task. We will be using Matplotlib & Seaborn for Histogram analysis and will also import ```NumPy```!"
   ]
  },
  {
   "cell_type": "code",
   "execution_count": 145,
   "metadata": {},
   "outputs": [],
   "source": [
    "import matplotlib.pyplot as plt\n",
    "import seaborn as sns\n",
    "import numpy as np\n",
    "sns.set(color_codes=True)\n",
    "\n",
    "%matplotlib inline"
   ]
  },
  {
   "cell_type": "markdown",
   "metadata": {},
   "source": [
    "### A. What is the mean (total) pledge that projects get?\n",
    "We will look at our ```pledged``` column and calculate the mean with Pandas (optimized). We could write our own function."
   ]
  },
  {
   "cell_type": "code",
   "execution_count": 23,
   "metadata": {},
   "outputs": [],
   "source": [
    "# Creating a pledged series from our DF.\n",
    "pledged = DSI_DF['pledged'].copy()"
   ]
  },
  {
   "cell_type": "code",
   "execution_count": 27,
   "metadata": {},
   "outputs": [
    {
     "data": {
      "text/plain": [
       "4980.749678963979"
      ]
     },
     "execution_count": 27,
     "metadata": {},
     "output_type": "execute_result"
    }
   ],
   "source": [
    "# calculate our mean\n",
    "pledged.mean()"
   ]
  },
  {
   "cell_type": "code",
   "execution_count": 192,
   "metadata": {},
   "outputs": [],
   "source": [
    "def find_mean(arr):\n",
    "    \"\"\"\n",
    "    Loops through an array adding each element and dividing by the length!\n",
    "    ARGS:\n",
    "        arr: <Array: INT/FLOAT>\n",
    "        \n",
    "    RETURNS:\n",
    "        mean: <INT> \n",
    "    \"\"\"\n",
    "    # what is the length of this array?\n",
    "    array_length = len(arr)\n",
    "    \n",
    "    # keeping track of sum\n",
    "    sum_ = 0\n",
    "    \n",
    "    # looping through the array\n",
    "    for i in range(array_length):\n",
    "        \n",
    "        if isinstance(arr[i], float):\n",
    "            sum_ += int(arr[i])\n",
    "        else:\n",
    "            pass\n",
    "        \n",
    "    mean = sum_ / array_length\n",
    "    \n",
    "    return mean"
   ]
  },
  {
   "cell_type": "code",
   "execution_count": 193,
   "metadata": {},
   "outputs": [],
   "source": [
    "# converting our pledge amounts to a python list\n",
    "pledged.dropna(inplace=True) # dropping null values\n",
    "pledged_list = pledged.tolist()"
   ]
  },
  {
   "cell_type": "code",
   "execution_count": 194,
   "metadata": {},
   "outputs": [
    {
     "data": {
      "text/plain": [
       "4980.749678963979"
      ]
     },
     "execution_count": 194,
     "metadata": {},
     "output_type": "execute_result"
    }
   ],
   "source": [
    "mean = find_mean(pledged_list)\n",
    "mean"
   ]
  },
  {
   "cell_type": "markdown",
   "metadata": {},
   "source": [
    "#### Why use pandas?\n",
    "Let's check the speed"
   ]
  },
  {
   "cell_type": "code",
   "execution_count": 195,
   "metadata": {},
   "outputs": [],
   "source": [
    "# creating a function to grab both pledged amounts and pledged list\n",
    "def get_pledged():\n",
    "    \"\"\"\n",
    "    Will return two datasets, one will be the pandas series, the other will be the list without any null values\n",
    "    \"\"\"\n",
    "    pledged = DSI_DF['pledged'].copy()\n",
    "    pledged_list_pre = DSI_DF['pledged'].copy()\n",
    "    pledged_list_pre.dropna(inplace=True)\n",
    "    pledged_list = pledged_list.tolist()\n",
    "    \n",
    "    return pledged, pledged_list"
   ]
  },
  {
   "cell_type": "code",
   "execution_count": 197,
   "metadata": {},
   "outputs": [
    {
     "name": "stdout",
     "output_type": "stream",
     "text": [
      "91.7 µs ± 26.7 µs per loop (mean ± std. dev. of 7 runs, 10 loops each)\n"
     ]
    }
   ],
   "source": [
    "%timeit -n 10 pledged.mean()"
   ]
  },
  {
   "cell_type": "code",
   "execution_count": 198,
   "metadata": {},
   "outputs": [
    {
     "name": "stdout",
     "output_type": "stream",
     "text": [
      "14.6 ms ± 411 µs per loop (mean ± std. dev. of 7 runs, 10 loops each)\n"
     ]
    }
   ],
   "source": [
    "%timeit -n 10 _, find_mean(pledged_list)"
   ]
  },
  {
   "cell_type": "markdown",
   "metadata": {},
   "source": [
    "As you can see, much much slower"
   ]
  },
  {
   "cell_type": "markdown",
   "metadata": {},
   "source": [
    "### B. Create a histogram that shows the distribution for number of backers. What is the skew of the distribution?"
   ]
  },
  {
   "cell_type": "code",
   "execution_count": 142,
   "metadata": {},
   "outputs": [],
   "source": [
    "# grabbing backers\n",
    "backers = DSI_DF['backers'].copy()\n",
    "backers_ = backers.copy()\n",
    "\n",
    "# dropping any null values\n",
    "backers_.dropna(inplace=True)"
   ]
  },
  {
   "cell_type": "code",
   "execution_count": 176,
   "metadata": {},
   "outputs": [
    {
     "data": {
      "text/plain": [
       "count    45957.000000\n",
       "mean        69.973192\n",
       "std        688.628479\n",
       "min          0.000000\n",
       "25%          5.000000\n",
       "50%         23.000000\n",
       "75%         59.000000\n",
       "max      87142.000000\n",
       "Name: backers, dtype: float64"
      ]
     },
     "execution_count": 176,
     "metadata": {},
     "output_type": "execute_result"
    }
   ],
   "source": [
    "backers.describe()"
   ]
  },
  {
   "cell_type": "code",
   "execution_count": 144,
   "metadata": {},
   "outputs": [],
   "source": [
    "assert len(backers)==len(backers_)"
   ]
  },
  {
   "cell_type": "code",
   "execution_count": 149,
   "metadata": {},
   "outputs": [
    {
     "data": {
      "text/plain": [
       "<matplotlib.axes._subplots.AxesSubplot at 0x1204c10b8>"
      ]
     },
     "execution_count": 149,
     "metadata": {},
     "output_type": "execute_result"
    },
    {
     "data": {
      "image/png": "[encoded data removed]",
      "text/plain": [
       "<Figure size 432x288 with 1 Axes>"
      ]
     },
     "metadata": {
      "needs_background": "light"
     },
     "output_type": "display_data"
    }
   ],
   "source": [
    "sns.kdeplot(backers, shade=True)"
   ]
  },
  {
   "cell_type": "code",
   "execution_count": 155,
   "metadata": {},
   "outputs": [
    {
     "data": {
      "text/plain": [
       "41151    87142\n",
       "10710    68929\n",
       "42674    61290\n",
       "11231    36276\n",
       "17468    24883\n",
       "38386    20042\n",
       "4086     14952\n",
       "44587    14081\n",
       "27726    13647\n",
       "4114     13512\n",
       "Name: backers, dtype: int64"
      ]
     },
     "execution_count": 155,
     "metadata": {},
     "output_type": "execute_result"
    }
   ],
   "source": [
    "backers.sort_values(ascending=False).head(10)"
   ]
  },
  {
   "cell_type": "code",
   "execution_count": 158,
   "metadata": {},
   "outputs": [],
   "source": [
    "top_10 = backers.sort_values(ascending=False).head(10).index"
   ]
  },
  {
   "cell_type": "code",
   "execution_count": 162,
   "metadata": {},
   "outputs": [],
   "source": [
    "top_10_df = DSI_DF.iloc[top_10.to_list()]"
   ]
  },
  {
   "cell_type": "code",
   "execution_count": 166,
   "metadata": {},
   "outputs": [
    {
     "data": {
      "text/html": [
       "<div>\n",
       "<style scoped>\n",
       "    .dataframe tbody tr th:only-of-type {\n",
       "        vertical-align: middle;\n",
       "    }\n",
       "\n",
       "    .dataframe tbody tr th {\n",
       "        vertical-align: top;\n",
       "    }\n",
       "\n",
       "    .dataframe thead th {\n",
       "        text-align: right;\n",
       "    }\n",
       "</style>\n",
       "<table border=\"1\" class=\"dataframe\">\n",
       "  <thead>\n",
       "    <tr style=\"text-align: right;\">\n",
       "      <th></th>\n",
       "      <th>project id</th>\n",
       "      <th>name</th>\n",
       "      <th>url</th>\n",
       "      <th>category</th>\n",
       "      <th>subcategory</th>\n",
       "      <th>location</th>\n",
       "      <th>status</th>\n",
       "      <th>goal</th>\n",
       "      <th>pledged</th>\n",
       "      <th>funded percentage</th>\n",
       "      <th>backers</th>\n",
       "      <th>funded date</th>\n",
       "      <th>levels</th>\n",
       "      <th>reward levels</th>\n",
       "      <th>updates</th>\n",
       "      <th>comments</th>\n",
       "      <th>duration</th>\n",
       "    </tr>\n",
       "  </thead>\n",
       "  <tbody>\n",
       "    <tr>\n",
       "      <th>41151</th>\n",
       "      <td>1929840910</td>\n",
       "      <td>Double Fine Adventure</td>\n",
       "      <td>http://www.kickstarter.com/projects/doublefine...</td>\n",
       "      <td>Games</td>\n",
       "      <td>Video Games</td>\n",
       "      <td>San Francisco, CA</td>\n",
       "      <td>successful</td>\n",
       "      <td>400000.0</td>\n",
       "      <td>3336372.0</td>\n",
       "      <td>8.340930</td>\n",
       "      <td>87142</td>\n",
       "      <td>Wed, 14 Mar 2012 00:00:00 -0000</td>\n",
       "      <td>9</td>\n",
       "      <td>$15,$30,$60,$100,$250,$500,$1,000,$5,000,$10,000</td>\n",
       "      <td>9</td>\n",
       "      <td>10159</td>\n",
       "      <td>33.92</td>\n",
       "    </tr>\n",
       "    <tr>\n",
       "      <th>10710</th>\n",
       "      <td>506924864</td>\n",
       "      <td>Pebble: E-Paper Watch for iPhone and Android</td>\n",
       "      <td>http://www.kickstarter.com/projects/597507018/...</td>\n",
       "      <td>Design</td>\n",
       "      <td>Product Design</td>\n",
       "      <td>Palo Alto, CA</td>\n",
       "      <td>successful</td>\n",
       "      <td>100000.0</td>\n",
       "      <td>10266845.0</td>\n",
       "      <td>102.668457</td>\n",
       "      <td>68929</td>\n",
       "      <td>Sat, 19 May 2012 03:00:00 -0000</td>\n",
       "      <td>11</td>\n",
       "      <td>$1,$99,$115,$125,$220,$235,$240,$550,$1,000,$1...</td>\n",
       "      <td>13</td>\n",
       "      <td>7013</td>\n",
       "      <td>37.92</td>\n",
       "    </tr>\n",
       "    <tr>\n",
       "      <th>42674</th>\n",
       "      <td>2000827215</td>\n",
       "      <td>Wasteland 2</td>\n",
       "      <td>http://www.kickstarter.com/projects/inxile/was...</td>\n",
       "      <td>Games</td>\n",
       "      <td>Video Games</td>\n",
       "      <td>Newport Beach, CA</td>\n",
       "      <td>successful</td>\n",
       "      <td>900000.0</td>\n",
       "      <td>2933252.0</td>\n",
       "      <td>3.259169</td>\n",
       "      <td>61290</td>\n",
       "      <td>Tue, 17 Apr 2012 12:05:42 -0000</td>\n",
       "      <td>15</td>\n",
       "      <td>$15,$30,$50,$55,$75,$100,$150,$150,$250,$500,$...</td>\n",
       "      <td>16</td>\n",
       "      <td>13133</td>\n",
       "      <td>35.00</td>\n",
       "    </tr>\n",
       "  </tbody>\n",
       "</table>\n",
       "</div>"
      ],
      "text/plain": [
       "       project id                                          name  \\\n",
       "41151  1929840910                         Double Fine Adventure   \n",
       "10710   506924864  Pebble: E-Paper Watch for iPhone and Android   \n",
       "42674  2000827215                                   Wasteland 2   \n",
       "\n",
       "                                                     url category  \\\n",
       "41151  http://www.kickstarter.com/projects/doublefine...    Games   \n",
       "10710  http://www.kickstarter.com/projects/597507018/...   Design   \n",
       "42674  http://www.kickstarter.com/projects/inxile/was...    Games   \n",
       "\n",
       "          subcategory           location      status      goal     pledged  \\\n",
       "41151     Video Games  San Francisco, CA  successful  400000.0   3336372.0   \n",
       "10710  Product Design      Palo Alto, CA  successful  100000.0  10266845.0   \n",
       "42674     Video Games  Newport Beach, CA  successful  900000.0   2933252.0   \n",
       "\n",
       "       funded percentage  backers                      funded date  levels  \\\n",
       "41151           8.340930    87142  Wed, 14 Mar 2012 00:00:00 -0000       9   \n",
       "10710         102.668457    68929  Sat, 19 May 2012 03:00:00 -0000      11   \n",
       "42674           3.259169    61290  Tue, 17 Apr 2012 12:05:42 -0000      15   \n",
       "\n",
       "                                           reward levels  updates  comments  \\\n",
       "41151   $15,$30,$60,$100,$250,$500,$1,000,$5,000,$10,000        9     10159   \n",
       "10710  $1,$99,$115,$125,$220,$235,$240,$550,$1,000,$1...       13      7013   \n",
       "42674  $15,$30,$50,$55,$75,$100,$150,$150,$250,$500,$...       16     13133   \n",
       "\n",
       "       duration  \n",
       "41151     33.92  \n",
       "10710     37.92  \n",
       "42674     35.00  "
      ]
     },
     "execution_count": 166,
     "metadata": {},
     "output_type": "execute_result"
    }
   ],
   "source": [
    "# showing top 3 backers\n",
    "top_10_df.head(3)"
   ]
  },
  {
   "cell_type": "markdown",
   "metadata": {},
   "source": [
    "The answer is that the ```backers``` data is **right-skewed** in that is doesn't follow a **symetrical distribution**. We also noted at the top 3 have over 30,000 backers while the rest back less than 24,000 with the max being 87,000. "
   ]
  },
  {
   "cell_type": "markdown",
   "metadata": {},
   "source": [
    "### C. Is the 'duration' variable normally distributed?"
   ]
  },
  {
   "cell_type": "code",
   "execution_count": 184,
   "metadata": {},
   "outputs": [],
   "source": [
    "# let's first look at a normal distribution\n",
    "normal_dist = np.random.normal(size=len(DSI_DF['duration']))"
   ]
  },
  {
   "cell_type": "code",
   "execution_count": 185,
   "metadata": {},
   "outputs": [
    {
     "data": {
      "text/plain": [
       "<matplotlib.axes._subplots.AxesSubplot at 0x1231f49b0>"
      ]
     },
     "execution_count": 185,
     "metadata": {},
     "output_type": "execute_result"
    },
    {
     "data": {
      "image/png": "[encoded data removed]",
      "text/plain": [
       "<Figure size 432x288 with 1 Axes>"
      ]
     },
     "metadata": {
      "needs_background": "light"
     },
     "output_type": "display_data"
    }
   ],
   "source": [
    "# what normal distribution looks like: using the size of our dataframe\n",
    "sns.distplot(normal_dist)"
   ]
  },
  {
   "cell_type": "code",
   "execution_count": 186,
   "metadata": {},
   "outputs": [],
   "source": [
    "# creating a duration series\n",
    "duration = DSI_DF['duration'].copy()"
   ]
  },
  {
   "cell_type": "code",
   "execution_count": 190,
   "metadata": {},
   "outputs": [],
   "source": [
    "# any null values?\n",
    "assert duration.isnull().any()==False"
   ]
  },
  {
   "cell_type": "code",
   "execution_count": 191,
   "metadata": {},
   "outputs": [
    {
     "data": {
      "text/plain": [
       "<matplotlib.axes._subplots.AxesSubplot at 0x1236211d0>"
      ]
     },
     "execution_count": 191,
     "metadata": {},
     "output_type": "execute_result"
    },
    {
     "data": {
      "image/png": "[encoded data removed]",
      "text/plain": [
       "<Figure size 432x288 with 1 Axes>"
      ]
     },
     "metadata": {
      "needs_background": "light"
     },
     "output_type": "display_data"
    }
   ],
   "source": [
    "# checking the distribution\n",
    "sns.distplot(duration)"
   ]
  },
  {
   "cell_type": "markdown",
   "metadata": {},
   "source": [
    "### D. If you could collect data on another attribute of these projects, what would it be and why? \n",
    "My answer may be very biased from my work. I would argue the more data and meta-data the better. The goal: I would want to develop a report or perhaps a web-app that provides guidance to those who want to use kickstarter! My approach would be to use Deep Learning to do just that. However, for this project; the first thing that comes to mind is mining and retrieving any meta-data regarding the creator of the project. Such data includes: their social media, how many followers? Did they do social media advertising? If so, what type of social media advertising? How many people did they reach? Other type of meta-data I would want to collect is meta-data about the backers. Where do they fall? What are their taste and likes? \n",
    "\n",
    "If I had such meta-data I could build a web-app and provide some Deep Learning Intuition to the user. Otherwise, based on the category and sub-category of their project we may (in this case) provide our statistical findings. \n",
    "\n",
    "Why more data? Neural Networks are awesome and with the right configuration and training methods you can model high-dimensional complex non-linearities. The key is starting with a high-complexity model until you overfit. Then introduce generalization techiques from: Gathering more data, data augmentation, network regularization (Weight Decay, Dropout, Momemtum, etc). Finally, reducing network complexity. "
   ]
  },
  {
   "cell_type": "code",
   "execution_count": null,
   "metadata": {},
   "outputs": [],
   "source": []
  },
  {
   "cell_type": "code",
   "execution_count": null,
   "metadata": {},
   "outputs": [],
   "source": []
  },
  {
   "cell_type": "code",
   "execution_count": null,
   "metadata": {},
   "outputs": [],
   "source": []
  },
  {
   "cell_type": "code",
   "execution_count": null,
   "metadata": {},
   "outputs": [],
   "source": []
  },
  {
   "cell_type": "code",
   "execution_count": null,
   "metadata": {},
   "outputs": [],
   "source": []
  },
  {
   "cell_type": "code",
   "execution_count": null,
   "metadata": {},
   "outputs": [],
   "source": []
  },
  {
   "cell_type": "code",
   "execution_count": null,
   "metadata": {},
   "outputs": [],
   "source": []
  }
 ],
 "metadata": {
  "kernelspec": {
   "display_name": "Python 3",
   "language": "python",
   "name": "python3"
  },
  "language_info": {
   "codemirror_mode": {
    "name": "ipython",
    "version": 3
   },
   "file_extension": ".py",
   "mimetype": "text/x-python",
   "name": "python",
   "nbconvert_exporter": "python",
   "pygments_lexer": "ipython3",
   "version": "3.6.8"
  }
 },
 "nbformat": 4,
 "nbformat_minor": 2
}
